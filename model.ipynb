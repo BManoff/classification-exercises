{
 "cells": [
  {
   "cell_type": "code",
   "execution_count": 1,
   "metadata": {},
   "outputs": [],
   "source": [
    "import numpy as np\n",
    "import pandas as pd\n",
    "from sklearn.model_selection import train_test_split\n",
    "import matplotlib.pyplot as plt\n",
    "import seaborn as sns\n",
    "\n",
    "from sklearn.tree import DecisionTreeClassifier\n",
    "from sklearn.metrics import classification_report\n",
    "from sklearn.metrics import confusion_matrix\n",
    "\n",
    "import warnings\n",
    "warnings.filterwarnings(\"ignore\")\n",
    "\n",
    "import acquire\n",
    "import prepare"
   ]
  },
  {
   "cell_type": "code",
   "execution_count": 378,
   "metadata": {},
   "outputs": [
    {
     "data": {
      "text/html": [
       "<div>\n",
       "<style scoped>\n",
       "    .dataframe tbody tr th:only-of-type {\n",
       "        vertical-align: middle;\n",
       "    }\n",
       "\n",
       "    .dataframe tbody tr th {\n",
       "        vertical-align: top;\n",
       "    }\n",
       "\n",
       "    .dataframe thead th {\n",
       "        text-align: right;\n",
       "    }\n",
       "</style>\n",
       "<table border=\"1\" class=\"dataframe\">\n",
       "  <thead>\n",
       "    <tr style=\"text-align: right;\">\n",
       "      <th></th>\n",
       "      <th>Unnamed: 0</th>\n",
       "      <th>passenger_id</th>\n",
       "      <th>survived</th>\n",
       "      <th>pclass</th>\n",
       "      <th>sex</th>\n",
       "      <th>age</th>\n",
       "      <th>sibsp</th>\n",
       "      <th>parch</th>\n",
       "      <th>fare</th>\n",
       "      <th>embarked</th>\n",
       "      <th>class</th>\n",
       "      <th>deck</th>\n",
       "      <th>embark_town</th>\n",
       "      <th>alone</th>\n",
       "    </tr>\n",
       "  </thead>\n",
       "  <tbody>\n",
       "    <tr>\n",
       "      <th>0</th>\n",
       "      <td>0</td>\n",
       "      <td>0</td>\n",
       "      <td>0</td>\n",
       "      <td>3</td>\n",
       "      <td>male</td>\n",
       "      <td>22.0</td>\n",
       "      <td>1</td>\n",
       "      <td>0</td>\n",
       "      <td>7.2500</td>\n",
       "      <td>S</td>\n",
       "      <td>Third</td>\n",
       "      <td>NaN</td>\n",
       "      <td>Southampton</td>\n",
       "      <td>0</td>\n",
       "    </tr>\n",
       "    <tr>\n",
       "      <th>1</th>\n",
       "      <td>1</td>\n",
       "      <td>1</td>\n",
       "      <td>1</td>\n",
       "      <td>1</td>\n",
       "      <td>female</td>\n",
       "      <td>38.0</td>\n",
       "      <td>1</td>\n",
       "      <td>0</td>\n",
       "      <td>71.2833</td>\n",
       "      <td>C</td>\n",
       "      <td>First</td>\n",
       "      <td>C</td>\n",
       "      <td>Cherbourg</td>\n",
       "      <td>0</td>\n",
       "    </tr>\n",
       "    <tr>\n",
       "      <th>2</th>\n",
       "      <td>2</td>\n",
       "      <td>2</td>\n",
       "      <td>1</td>\n",
       "      <td>3</td>\n",
       "      <td>female</td>\n",
       "      <td>26.0</td>\n",
       "      <td>0</td>\n",
       "      <td>0</td>\n",
       "      <td>7.9250</td>\n",
       "      <td>S</td>\n",
       "      <td>Third</td>\n",
       "      <td>NaN</td>\n",
       "      <td>Southampton</td>\n",
       "      <td>1</td>\n",
       "    </tr>\n",
       "    <tr>\n",
       "      <th>3</th>\n",
       "      <td>3</td>\n",
       "      <td>3</td>\n",
       "      <td>1</td>\n",
       "      <td>1</td>\n",
       "      <td>female</td>\n",
       "      <td>35.0</td>\n",
       "      <td>1</td>\n",
       "      <td>0</td>\n",
       "      <td>53.1000</td>\n",
       "      <td>S</td>\n",
       "      <td>First</td>\n",
       "      <td>C</td>\n",
       "      <td>Southampton</td>\n",
       "      <td>0</td>\n",
       "    </tr>\n",
       "    <tr>\n",
       "      <th>4</th>\n",
       "      <td>4</td>\n",
       "      <td>4</td>\n",
       "      <td>0</td>\n",
       "      <td>3</td>\n",
       "      <td>male</td>\n",
       "      <td>35.0</td>\n",
       "      <td>0</td>\n",
       "      <td>0</td>\n",
       "      <td>8.0500</td>\n",
       "      <td>S</td>\n",
       "      <td>Third</td>\n",
       "      <td>NaN</td>\n",
       "      <td>Southampton</td>\n",
       "      <td>1</td>\n",
       "    </tr>\n",
       "  </tbody>\n",
       "</table>\n",
       "</div>"
      ],
      "text/plain": [
       "   Unnamed: 0  passenger_id  survived  pclass     sex   age  sibsp  parch  \\\n",
       "0           0             0         0       3    male  22.0      1      0   \n",
       "1           1             1         1       1  female  38.0      1      0   \n",
       "2           2             2         1       3  female  26.0      0      0   \n",
       "3           3             3         1       1  female  35.0      1      0   \n",
       "4           4             4         0       3    male  35.0      0      0   \n",
       "\n",
       "      fare embarked  class deck  embark_town  alone  \n",
       "0   7.2500        S  Third  NaN  Southampton      0  \n",
       "1  71.2833        C  First    C    Cherbourg      0  \n",
       "2   7.9250        S  Third  NaN  Southampton      1  \n",
       "3  53.1000        S  First    C  Southampton      0  \n",
       "4   8.0500        S  Third  NaN  Southampton      1  "
      ]
     },
     "execution_count": 378,
     "metadata": {},
     "output_type": "execute_result"
    }
   ],
   "source": [
    "df = acquire.get_titanic_data()\n",
    "df.head()"
   ]
  },
  {
   "cell_type": "code",
   "execution_count": 379,
   "metadata": {},
   "outputs": [
    {
     "data": {
      "text/html": [
       "<div>\n",
       "<style scoped>\n",
       "    .dataframe tbody tr th:only-of-type {\n",
       "        vertical-align: middle;\n",
       "    }\n",
       "\n",
       "    .dataframe tbody tr th {\n",
       "        vertical-align: top;\n",
       "    }\n",
       "\n",
       "    .dataframe thead th {\n",
       "        text-align: right;\n",
       "    }\n",
       "</style>\n",
       "<table border=\"1\" class=\"dataframe\">\n",
       "  <thead>\n",
       "    <tr style=\"text-align: right;\">\n",
       "      <th></th>\n",
       "      <th>passenger_id</th>\n",
       "      <th>survived</th>\n",
       "      <th>pclass</th>\n",
       "      <th>sex</th>\n",
       "      <th>age</th>\n",
       "      <th>sibsp</th>\n",
       "      <th>parch</th>\n",
       "      <th>fare</th>\n",
       "      <th>deck</th>\n",
       "      <th>embark_town</th>\n",
       "      <th>alone</th>\n",
       "    </tr>\n",
       "  </thead>\n",
       "  <tbody>\n",
       "    <tr>\n",
       "      <th>0</th>\n",
       "      <td>0</td>\n",
       "      <td>0</td>\n",
       "      <td>3</td>\n",
       "      <td>male</td>\n",
       "      <td>22.0</td>\n",
       "      <td>1</td>\n",
       "      <td>0</td>\n",
       "      <td>7.2500</td>\n",
       "      <td>NaN</td>\n",
       "      <td>Southampton</td>\n",
       "      <td>0</td>\n",
       "    </tr>\n",
       "    <tr>\n",
       "      <th>1</th>\n",
       "      <td>1</td>\n",
       "      <td>1</td>\n",
       "      <td>1</td>\n",
       "      <td>female</td>\n",
       "      <td>38.0</td>\n",
       "      <td>1</td>\n",
       "      <td>0</td>\n",
       "      <td>71.2833</td>\n",
       "      <td>C</td>\n",
       "      <td>Cherbourg</td>\n",
       "      <td>0</td>\n",
       "    </tr>\n",
       "    <tr>\n",
       "      <th>2</th>\n",
       "      <td>2</td>\n",
       "      <td>1</td>\n",
       "      <td>3</td>\n",
       "      <td>female</td>\n",
       "      <td>26.0</td>\n",
       "      <td>0</td>\n",
       "      <td>0</td>\n",
       "      <td>7.9250</td>\n",
       "      <td>NaN</td>\n",
       "      <td>Southampton</td>\n",
       "      <td>1</td>\n",
       "    </tr>\n",
       "    <tr>\n",
       "      <th>3</th>\n",
       "      <td>3</td>\n",
       "      <td>1</td>\n",
       "      <td>1</td>\n",
       "      <td>female</td>\n",
       "      <td>35.0</td>\n",
       "      <td>1</td>\n",
       "      <td>0</td>\n",
       "      <td>53.1000</td>\n",
       "      <td>C</td>\n",
       "      <td>Southampton</td>\n",
       "      <td>0</td>\n",
       "    </tr>\n",
       "    <tr>\n",
       "      <th>4</th>\n",
       "      <td>4</td>\n",
       "      <td>0</td>\n",
       "      <td>3</td>\n",
       "      <td>male</td>\n",
       "      <td>35.0</td>\n",
       "      <td>0</td>\n",
       "      <td>0</td>\n",
       "      <td>8.0500</td>\n",
       "      <td>NaN</td>\n",
       "      <td>Southampton</td>\n",
       "      <td>1</td>\n",
       "    </tr>\n",
       "  </tbody>\n",
       "</table>\n",
       "</div>"
      ],
      "text/plain": [
       "   passenger_id  survived  pclass     sex   age  sibsp  parch     fare deck  \\\n",
       "0             0         0       3    male  22.0      1      0   7.2500  NaN   \n",
       "1             1         1       1  female  38.0      1      0  71.2833    C   \n",
       "2             2         1       3  female  26.0      0      0   7.9250  NaN   \n",
       "3             3         1       1  female  35.0      1      0  53.1000    C   \n",
       "4             4         0       3    male  35.0      0      0   8.0500  NaN   \n",
       "\n",
       "   embark_town  alone  \n",
       "0  Southampton      0  \n",
       "1    Cherbourg      0  \n",
       "2  Southampton      1  \n",
       "3  Southampton      0  \n",
       "4  Southampton      1  "
      ]
     },
     "execution_count": 379,
     "metadata": {},
     "output_type": "execute_result"
    }
   ],
   "source": [
    "df = df.drop(columns=['Unnamed: 0', 'class', 'embarked'])\n",
    "df.head()"
   ]
  },
  {
   "cell_type": "code",
   "execution_count": 380,
   "metadata": {},
   "outputs": [
    {
     "data": {
      "text/plain": [
       "passenger_id      0\n",
       "survived          0\n",
       "pclass            0\n",
       "sex               0\n",
       "age             177\n",
       "sibsp             0\n",
       "parch             0\n",
       "fare              0\n",
       "deck            688\n",
       "embark_town       2\n",
       "alone             0\n",
       "dtype: int64"
      ]
     },
     "execution_count": 380,
     "metadata": {},
     "output_type": "execute_result"
    }
   ],
   "source": [
    "df.isna().sum()"
   ]
  },
  {
   "cell_type": "code",
   "execution_count": 381,
   "metadata": {},
   "outputs": [],
   "source": [
    "# Drop deck because there are far too many nulls\n",
    "df = df.drop(columns=[\"deck\"])"
   ]
  },
  {
   "cell_type": "code",
   "execution_count": 382,
   "metadata": {},
   "outputs": [],
   "source": [
    "# Let's fill embark_town with the most common observation\n",
    "df.embark_town = df.embark_town.fillna(value=df.embark_town.mode())"
   ]
  },
  {
   "cell_type": "code",
   "execution_count": 384,
   "metadata": {},
   "outputs": [
    {
     "data": {
      "text/plain": [
       "1    133\n",
       "0     44\n",
       "Name: alone, dtype: int64"
      ]
     },
     "execution_count": 384,
     "metadata": {},
     "output_type": "execute_result"
    }
   ],
   "source": [
    "# Let's investigate the observations with missing age\n",
    "# My first thought was empty age values might indicate children\n",
    "# Looks like most of these individuals were traveling alone\n",
    "no_age_info = df[df.age.isna()]\n",
    "no_age_info.alone.value_counts()"
   ]
  },
  {
   "cell_type": "code",
   "execution_count": 385,
   "metadata": {},
   "outputs": [
    {
     "name": "stdout",
     "output_type": "stream",
     "text": [
      "passenger_id\n",
      "Population:\n",
      "0      0.001122\n",
      "598    0.001122\n",
      "587    0.001122\n",
      "588    0.001122\n",
      "589    0.001122\n",
      "         ...   \n",
      "300    0.001122\n",
      "301    0.001122\n",
      "302    0.001122\n",
      "303    0.001122\n",
      "890    0.001122\n",
      "Name: passenger_id, Length: 891, dtype: float64\n",
      "No age\n",
      "5      0.00565\n",
      "454    0.00565\n",
      "552    0.00565\n",
      "557    0.00565\n",
      "560    0.00565\n",
      "        ...   \n",
      "304    0.00565\n",
      "306    0.00565\n",
      "324    0.00565\n",
      "330    0.00565\n",
      "888    0.00565\n",
      "Name: passenger_id, Length: 177, dtype: float64\n",
      "\n",
      "\n",
      "survived\n",
      "Population:\n",
      "0    0.616162\n",
      "1    0.383838\n",
      "Name: survived, dtype: float64\n",
      "No age\n",
      "0    0.706215\n",
      "1    0.293785\n",
      "Name: survived, dtype: float64\n",
      "\n",
      "\n",
      "pclass\n",
      "Population:\n",
      "3    0.551066\n",
      "1    0.242424\n",
      "2    0.206510\n",
      "Name: pclass, dtype: float64\n",
      "No age\n",
      "3    0.768362\n",
      "1    0.169492\n",
      "2    0.062147\n",
      "Name: pclass, dtype: float64\n",
      "\n",
      "\n",
      "sex\n",
      "Population:\n",
      "male      0.647587\n",
      "female    0.352413\n",
      "Name: sex, dtype: float64\n",
      "No age\n",
      "male      0.700565\n",
      "female    0.299435\n",
      "Name: sex, dtype: float64\n",
      "\n",
      "\n",
      "sibsp\n",
      "Population:\n",
      "0    0.682379\n",
      "1    0.234568\n",
      "2    0.031425\n",
      "4    0.020202\n",
      "3    0.017957\n",
      "8    0.007856\n",
      "5    0.005612\n",
      "Name: sibsp, dtype: float64\n",
      "No age\n",
      "0    0.774011\n",
      "1    0.146893\n",
      "8    0.039548\n",
      "3    0.022599\n",
      "2    0.016949\n",
      "Name: sibsp, dtype: float64\n",
      "\n",
      "\n",
      "parch\n",
      "Population:\n",
      "0    0.760943\n",
      "1    0.132435\n",
      "2    0.089787\n",
      "5    0.005612\n",
      "3    0.005612\n",
      "4    0.004489\n",
      "6    0.001122\n",
      "Name: parch, dtype: float64\n",
      "No age\n",
      "0    0.887006\n",
      "2    0.067797\n",
      "1    0.045198\n",
      "Name: parch, dtype: float64\n",
      "\n",
      "\n",
      "embark_town\n",
      "Population:\n",
      "Southampton    0.724409\n",
      "Cherbourg      0.188976\n",
      "Queenstown     0.086614\n",
      "Name: embark_town, dtype: float64\n",
      "No age\n",
      "Southampton    0.508475\n",
      "Queenstown     0.276836\n",
      "Cherbourg      0.214689\n",
      "Name: embark_town, dtype: float64\n",
      "\n",
      "\n",
      "alone\n",
      "Population:\n",
      "1    0.602694\n",
      "0    0.397306\n",
      "Name: alone, dtype: float64\n",
      "No age\n",
      "1    0.751412\n",
      "0    0.248588\n",
      "Name: alone, dtype: float64\n",
      "\n",
      "\n"
     ]
    }
   ],
   "source": [
    "# Let's see how similar this group is to the population\n",
    "for column in df.drop(columns=[\"age\", \"fare\"]).columns:\n",
    "    print(column)\n",
    "    print(\"Population:\")\n",
    "    print(df[column].value_counts(normalize=True))\n",
    "    print(\"No age\")\n",
    "    print(no_age_info[column].value_counts(normalize=True))\n",
    "    print()\n",
    "    print()"
   ]
  },
  {
   "cell_type": "code",
   "execution_count": 386,
   "metadata": {},
   "outputs": [],
   "source": [
    "df.age = df.age.fillna(value=df.age.median())"
   ]
  },
  {
   "cell_type": "code",
   "execution_count": 387,
   "metadata": {},
   "outputs": [
    {
     "data": {
      "text/html": [
       "<div>\n",
       "<style scoped>\n",
       "    .dataframe tbody tr th:only-of-type {\n",
       "        vertical-align: middle;\n",
       "    }\n",
       "\n",
       "    .dataframe tbody tr th {\n",
       "        vertical-align: top;\n",
       "    }\n",
       "\n",
       "    .dataframe thead th {\n",
       "        text-align: right;\n",
       "    }\n",
       "</style>\n",
       "<table border=\"1\" class=\"dataframe\">\n",
       "  <thead>\n",
       "    <tr style=\"text-align: right;\">\n",
       "      <th></th>\n",
       "      <th>passenger_id</th>\n",
       "      <th>survived</th>\n",
       "      <th>pclass</th>\n",
       "      <th>age</th>\n",
       "      <th>sibsp</th>\n",
       "      <th>parch</th>\n",
       "      <th>fare</th>\n",
       "      <th>alone</th>\n",
       "      <th>sex_male</th>\n",
       "      <th>embark_town_Queenstown</th>\n",
       "      <th>embark_town_Southampton</th>\n",
       "    </tr>\n",
       "  </thead>\n",
       "  <tbody>\n",
       "    <tr>\n",
       "      <th>0</th>\n",
       "      <td>0</td>\n",
       "      <td>0</td>\n",
       "      <td>3</td>\n",
       "      <td>22.0</td>\n",
       "      <td>1</td>\n",
       "      <td>0</td>\n",
       "      <td>7.2500</td>\n",
       "      <td>0</td>\n",
       "      <td>1</td>\n",
       "      <td>0</td>\n",
       "      <td>1</td>\n",
       "    </tr>\n",
       "    <tr>\n",
       "      <th>1</th>\n",
       "      <td>1</td>\n",
       "      <td>1</td>\n",
       "      <td>1</td>\n",
       "      <td>38.0</td>\n",
       "      <td>1</td>\n",
       "      <td>0</td>\n",
       "      <td>71.2833</td>\n",
       "      <td>0</td>\n",
       "      <td>0</td>\n",
       "      <td>0</td>\n",
       "      <td>0</td>\n",
       "    </tr>\n",
       "    <tr>\n",
       "      <th>2</th>\n",
       "      <td>2</td>\n",
       "      <td>1</td>\n",
       "      <td>3</td>\n",
       "      <td>26.0</td>\n",
       "      <td>0</td>\n",
       "      <td>0</td>\n",
       "      <td>7.9250</td>\n",
       "      <td>1</td>\n",
       "      <td>0</td>\n",
       "      <td>0</td>\n",
       "      <td>1</td>\n",
       "    </tr>\n",
       "    <tr>\n",
       "      <th>3</th>\n",
       "      <td>3</td>\n",
       "      <td>1</td>\n",
       "      <td>1</td>\n",
       "      <td>35.0</td>\n",
       "      <td>1</td>\n",
       "      <td>0</td>\n",
       "      <td>53.1000</td>\n",
       "      <td>0</td>\n",
       "      <td>0</td>\n",
       "      <td>0</td>\n",
       "      <td>1</td>\n",
       "    </tr>\n",
       "    <tr>\n",
       "      <th>4</th>\n",
       "      <td>4</td>\n",
       "      <td>0</td>\n",
       "      <td>3</td>\n",
       "      <td>35.0</td>\n",
       "      <td>0</td>\n",
       "      <td>0</td>\n",
       "      <td>8.0500</td>\n",
       "      <td>1</td>\n",
       "      <td>1</td>\n",
       "      <td>0</td>\n",
       "      <td>1</td>\n",
       "    </tr>\n",
       "  </tbody>\n",
       "</table>\n",
       "</div>"
      ],
      "text/plain": [
       "   passenger_id  survived  pclass   age  sibsp  parch     fare  alone  \\\n",
       "0             0         0       3  22.0      1      0   7.2500      0   \n",
       "1             1         1       1  38.0      1      0  71.2833      0   \n",
       "2             2         1       3  26.0      0      0   7.9250      1   \n",
       "3             3         1       1  35.0      1      0  53.1000      0   \n",
       "4             4         0       3  35.0      0      0   8.0500      1   \n",
       "\n",
       "   sex_male  embark_town_Queenstown  embark_town_Southampton  \n",
       "0         1                       0                        1  \n",
       "1         0                       0                        0  \n",
       "2         0                       0                        1  \n",
       "3         0                       0                        1  \n",
       "4         1                       0                        1  "
      ]
     },
     "execution_count": 387,
     "metadata": {},
     "output_type": "execute_result"
    }
   ],
   "source": [
    "dummy_df = pd.get_dummies(df[['sex','embark_town']], dummy_na=False, drop_first=[True, True])\n",
    "\n",
    "\n",
    "df = df.drop(columns=['sex', 'embark_town'])\n",
    "\n",
    "\n",
    "df = pd.concat([df, dummy_df], axis=1)\n",
    "df.head()"
   ]
  },
  {
   "cell_type": "code",
   "execution_count": 388,
   "metadata": {},
   "outputs": [],
   "source": [
    "from prepare import split\n",
    "\n",
    "train, test = train_test_split(df, test_size=.2, random_state=123, stratify=df.survived)\n",
    "train, validate = train_test_split(train, test_size=.3, random_state=123, stratify=train.survived)\n"
   ]
  },
  {
   "cell_type": "code",
   "execution_count": 389,
   "metadata": {},
   "outputs": [],
   "source": [
    "X_train = train.drop(columns=[\"survived\"])\n",
    "y_train = train.survived\n",
    "\n",
    "X_validate = validate.drop(columns=[\"survived\"])\n",
    "y_validate = validate.survived\n",
    "\n",
    "X_test = test.drop(columns=[\"survived\"])\n",
    "y_test = test.survived"
   ]
  },
  {
   "cell_type": "code",
   "execution_count": 341,
   "metadata": {},
   "outputs": [
    {
     "data": {
      "text/plain": [
       "583    0\n",
       "165    1\n",
       "50     0\n",
       "259    1\n",
       "306    1\n",
       "308    0\n",
       "314    0\n",
       "883    0\n",
       "459    0\n",
       "180    0\n",
       "Name: survived, dtype: int64"
      ]
     },
     "execution_count": 341,
     "metadata": {},
     "output_type": "execute_result"
    }
   ],
   "source": [
    "y_train[0:10]"
   ]
  },
  {
   "cell_type": "code",
   "execution_count": 296,
   "metadata": {},
   "outputs": [
    {
     "data": {
      "text/plain": [
       "0    307\n",
       "1    191\n",
       "Name: survived, dtype: int64"
      ]
     },
     "execution_count": 296,
     "metadata": {},
     "output_type": "execute_result"
    }
   ],
   "source": [
    "train.survived.value_counts()"
   ]
  },
  {
   "cell_type": "code",
   "execution_count": 390,
   "metadata": {},
   "outputs": [],
   "source": [
    "baseline = y_train.mode()"
   ]
  },
  {
   "cell_type": "code",
   "execution_count": 391,
   "metadata": {},
   "outputs": [],
   "source": [
    "matches_baseline_prediction = (y_train == 0)"
   ]
  },
  {
   "cell_type": "code",
   "execution_count": 392,
   "metadata": {},
   "outputs": [
    {
     "name": "stdout",
     "output_type": "stream",
     "text": [
      "Baseline accuracy: 0.62\n"
     ]
    }
   ],
   "source": [
    "baseline_accuracy = matches_baseline_prediction.mean()\n",
    "print(f\"Baseline accuracy: {round(baseline_accuracy, 2)}\")"
   ]
  },
  {
   "cell_type": "code",
   "execution_count": 300,
   "metadata": {},
   "outputs": [],
   "source": [
    "tree1 = DecisionTreeClassifier(max_depth=1, random_state=123)"
   ]
  },
  {
   "cell_type": "code",
   "execution_count": 301,
   "metadata": {},
   "outputs": [],
   "source": [
    "tree1 = tree1.fit(X_train, y_train)"
   ]
  },
  {
   "cell_type": "code",
   "execution_count": 302,
   "metadata": {},
   "outputs": [],
   "source": [
    "y_predictions = tree1.predict(X_train)"
   ]
  },
  {
   "cell_type": "code",
   "execution_count": 303,
   "metadata": {},
   "outputs": [
    {
     "name": "stdout",
     "output_type": "stream",
     "text": [
      "Accuracy of Decision Tree classifier on training set: 0.80\n"
     ]
    }
   ],
   "source": [
    "print('Accuracy of Decision Tree classifier on training set: {:.2f}'\n",
    "      .format(tree1.score(X_train, y_train)))"
   ]
  },
  {
   "cell_type": "code",
   "execution_count": 230,
   "metadata": {},
   "outputs": [
    {
     "data": {
      "text/html": [
       "<div>\n",
       "<style scoped>\n",
       "    .dataframe tbody tr th:only-of-type {\n",
       "        vertical-align: middle;\n",
       "    }\n",
       "\n",
       "    .dataframe tbody tr th {\n",
       "        vertical-align: top;\n",
       "    }\n",
       "\n",
       "    .dataframe thead th {\n",
       "        text-align: right;\n",
       "    }\n",
       "</style>\n",
       "<table border=\"1\" class=\"dataframe\">\n",
       "  <thead>\n",
       "    <tr style=\"text-align: right;\">\n",
       "      <th></th>\n",
       "      <th>0</th>\n",
       "      <th>1</th>\n",
       "    </tr>\n",
       "  </thead>\n",
       "  <tbody>\n",
       "    <tr>\n",
       "      <th>0</th>\n",
       "      <td>265</td>\n",
       "      <td>42</td>\n",
       "    </tr>\n",
       "    <tr>\n",
       "      <th>1</th>\n",
       "      <td>58</td>\n",
       "      <td>133</td>\n",
       "    </tr>\n",
       "  </tbody>\n",
       "</table>\n",
       "</div>"
      ],
      "text/plain": [
       "     0    1\n",
       "0  265   42\n",
       "1   58  133"
      ]
     },
     "execution_count": 230,
     "metadata": {},
     "output_type": "execute_result"
    }
   ],
   "source": [
    "pd.DataFrame(confusion_matrix(y_train, y_predictions))"
   ]
  },
  {
   "cell_type": "code",
   "execution_count": 195,
   "metadata": {},
   "outputs": [
    {
     "data": {
      "text/html": [
       "<div>\n",
       "<style scoped>\n",
       "    .dataframe tbody tr th:only-of-type {\n",
       "        vertical-align: middle;\n",
       "    }\n",
       "\n",
       "    .dataframe tbody tr th {\n",
       "        vertical-align: top;\n",
       "    }\n",
       "\n",
       "    .dataframe thead th {\n",
       "        text-align: right;\n",
       "    }\n",
       "</style>\n",
       "<table border=\"1\" class=\"dataframe\">\n",
       "  <thead>\n",
       "    <tr style=\"text-align: right;\">\n",
       "      <th>col_0</th>\n",
       "      <th>0</th>\n",
       "      <th>1</th>\n",
       "    </tr>\n",
       "    <tr>\n",
       "      <th>survived</th>\n",
       "      <th></th>\n",
       "      <th></th>\n",
       "    </tr>\n",
       "  </thead>\n",
       "  <tbody>\n",
       "    <tr>\n",
       "      <th>0</th>\n",
       "      <td>265</td>\n",
       "      <td>42</td>\n",
       "    </tr>\n",
       "    <tr>\n",
       "      <th>1</th>\n",
       "      <td>58</td>\n",
       "      <td>133</td>\n",
       "    </tr>\n",
       "  </tbody>\n",
       "</table>\n",
       "</div>"
      ],
      "text/plain": [
       "col_0       0    1\n",
       "survived          \n",
       "0         265   42\n",
       "1          58  133"
      ]
     },
     "execution_count": 195,
     "metadata": {},
     "output_type": "execute_result"
    }
   ],
   "source": [
    "pd.crosstab(y_train, y_predictions)"
   ]
  },
  {
   "cell_type": "code",
   "execution_count": 196,
   "metadata": {},
   "outputs": [
    {
     "name": "stdout",
     "output_type": "stream",
     "text": [
      "              precision    recall  f1-score   support\n",
      "\n",
      "           0       0.82      0.86      0.84       307\n",
      "           1       0.76      0.70      0.73       191\n",
      "\n",
      "    accuracy                           0.80       498\n",
      "   macro avg       0.79      0.78      0.78       498\n",
      "weighted avg       0.80      0.80      0.80       498\n",
      "\n"
     ]
    }
   ],
   "source": [
    "print(classification_report(y_train, y_predictions))"
   ]
  },
  {
   "cell_type": "code",
   "execution_count": 197,
   "metadata": {},
   "outputs": [
    {
     "name": "stdout",
     "output_type": "stream",
     "text": [
      "Tree of 1 depth\n"
     ]
    },
    {
     "data": {
      "text/html": [
       "<div>\n",
       "<style scoped>\n",
       "    .dataframe tbody tr th:only-of-type {\n",
       "        vertical-align: middle;\n",
       "    }\n",
       "\n",
       "    .dataframe tbody tr th {\n",
       "        vertical-align: top;\n",
       "    }\n",
       "\n",
       "    .dataframe thead th {\n",
       "        text-align: right;\n",
       "    }\n",
       "</style>\n",
       "<table border=\"1\" class=\"dataframe\">\n",
       "  <thead>\n",
       "    <tr style=\"text-align: right;\">\n",
       "      <th></th>\n",
       "      <th>0</th>\n",
       "      <th>1</th>\n",
       "      <th>accuracy</th>\n",
       "      <th>macro avg</th>\n",
       "      <th>weighted avg</th>\n",
       "    </tr>\n",
       "  </thead>\n",
       "  <tbody>\n",
       "    <tr>\n",
       "      <th>precision</th>\n",
       "      <td>0.820433</td>\n",
       "      <td>0.760000</td>\n",
       "      <td>0.799197</td>\n",
       "      <td>0.790217</td>\n",
       "      <td>0.797255</td>\n",
       "    </tr>\n",
       "    <tr>\n",
       "      <th>recall</th>\n",
       "      <td>0.863192</td>\n",
       "      <td>0.696335</td>\n",
       "      <td>0.799197</td>\n",
       "      <td>0.779764</td>\n",
       "      <td>0.799197</td>\n",
       "    </tr>\n",
       "    <tr>\n",
       "      <th>f1-score</th>\n",
       "      <td>0.841270</td>\n",
       "      <td>0.726776</td>\n",
       "      <td>0.799197</td>\n",
       "      <td>0.784023</td>\n",
       "      <td>0.797358</td>\n",
       "    </tr>\n",
       "    <tr>\n",
       "      <th>support</th>\n",
       "      <td>307.000000</td>\n",
       "      <td>191.000000</td>\n",
       "      <td>0.799197</td>\n",
       "      <td>498.000000</td>\n",
       "      <td>498.000000</td>\n",
       "    </tr>\n",
       "  </tbody>\n",
       "</table>\n",
       "</div>"
      ],
      "text/plain": [
       "                    0           1  accuracy   macro avg  weighted avg\n",
       "precision    0.820433    0.760000  0.799197    0.790217      0.797255\n",
       "recall       0.863192    0.696335  0.799197    0.779764      0.799197\n",
       "f1-score     0.841270    0.726776  0.799197    0.784023      0.797358\n",
       "support    307.000000  191.000000  0.799197  498.000000    498.000000"
      ]
     },
     "execution_count": 197,
     "metadata": {},
     "output_type": "execute_result"
    }
   ],
   "source": [
    "report = classification_report(y_train, y_predictions, output_dict=True)\n",
    "print(\"Tree of 1 depth\")\n",
    "pd.DataFrame(report)"
   ]
  },
  {
   "cell_type": "code",
   "execution_count": 70,
   "metadata": {},
   "outputs": [
    {
     "name": "stdout",
     "output_type": "stream",
     "text": [
      "Accuracy: 0.7991967871485943\n",
      "True Positive Rate: 0.8631921824104235\n",
      "False Positive Rate: 0.3036649214659686\n",
      "True Negative Rate: 0.6963350785340314\n",
      "False Negative Rate: 0.13680781758957655\n",
      "Precision: 0.8204334365325078\n",
      "Recall: 0.8631921824104235\n",
      "F1 Score: 0.8412698412698413\n",
      "Support (0): 307\n",
      "Support (1): 191\n"
     ]
    }
   ],
   "source": [
    "TP = 265\n",
    "FP = 58\n",
    "FN = 42\n",
    "TN = 133\n",
    "ALL = TP + FP + FN + TN\n",
    "\n",
    "accuracy = (TP + TN)/ALL\n",
    "print(f\"Accuracy: {accuracy}\")\n",
    "\n",
    "true_positive_rate = TP/(TP+FN)\n",
    "print(f\"True Positive Rate: {true_positive_rate}\")\n",
    "\n",
    "false_positive_rate = FP/(FP+TN)\n",
    "print(f\"False Positive Rate: {false_positive_rate}\")\n",
    "\n",
    "true_negative_rate = TN/(TN+FP)\n",
    "print(f\"True Negative Rate: {true_negative_rate}\")\n",
    "\n",
    "false_negative_rate = FN/(FN+TP)\n",
    "print(f\"False Negative Rate: {false_negative_rate}\")\n",
    "\n",
    "precision = TP/(TP+FP)\n",
    "print(f\"Precision: {precision}\")\n",
    "\n",
    "recall = TP/(TP+FN)\n",
    "print(f\"Recall: {recall}\")\n",
    "\n",
    "f1_score = 2*(precision*recall)/(precision+recall)\n",
    "print(f\"F1 Score: {f1_score}\")\n",
    "\n",
    "support_pos = TP + FN\n",
    "print(f\"Support (0): {support_pos}\")\n",
    "\n",
    "support_neg = FP + TN\n",
    "print(f\"Support (1): {support_neg}\")"
   ]
  },
  {
   "cell_type": "code",
   "execution_count": 198,
   "metadata": {},
   "outputs": [
    {
     "name": "stdout",
     "output_type": "stream",
     "text": [
      "Tree with max depth of 2\n",
      "                    0           1  accuracy   macro avg  weighted avg\n",
      "precision    0.820433    0.760000  0.799197    0.790217      0.797255\n",
      "recall       0.863192    0.696335  0.799197    0.779764      0.799197\n",
      "f1-score     0.841270    0.726776  0.799197    0.784023      0.797358\n",
      "support    307.000000  191.000000  0.799197  498.000000    498.000000\n",
      "\n",
      "Tree with max depth of 3\n",
      "                    0           1  accuracy   macro avg  weighted avg\n",
      "precision    0.829341    0.817073  0.825301    0.823207      0.824636\n",
      "recall       0.902280    0.701571  0.825301    0.801925      0.825301\n",
      "f1-score     0.864275    0.754930  0.825301    0.809602      0.822337\n",
      "support    307.000000  191.000000  0.825301  498.000000    498.000000\n",
      "\n",
      "Tree with max depth of 4\n",
      "                    0           1  accuracy   macro avg  weighted avg\n",
      "precision    0.853211    0.836257   0.84739    0.844734      0.846709\n",
      "recall       0.908795    0.748691   0.84739    0.828743      0.847390\n",
      "f1-score     0.880126    0.790055   0.84739    0.835091      0.845581\n",
      "support    307.000000  191.000000   0.84739  498.000000    498.000000\n",
      "\n",
      "Tree with max depth of 5\n",
      "                    0           1  accuracy   macro avg  weighted avg\n",
      "precision    0.836158    0.923611  0.861446    0.879885      0.869699\n",
      "recall       0.964169    0.696335  0.861446    0.830252      0.861446\n",
      "f1-score     0.895613    0.794030  0.861446    0.844821      0.856652\n",
      "support    307.000000  191.000000  0.861446  498.000000    498.000000\n",
      "\n",
      "Tree with max depth of 6\n",
      "                    0           1  accuracy   macro avg  weighted avg\n",
      "precision    0.870091    0.886228  0.875502    0.878159      0.876280\n",
      "recall       0.938111    0.774869  0.875502    0.856490      0.875502\n",
      "f1-score     0.902821    0.826816  0.875502    0.864818      0.873671\n",
      "support    307.000000  191.000000  0.875502  498.000000    498.000000\n",
      "\n",
      "Tree with max depth of 7\n",
      "                    0           1  accuracy   macro avg  weighted avg\n",
      "precision    0.905063    0.884615   0.89759    0.894839      0.897221\n",
      "recall       0.931596    0.842932   0.89759    0.887264      0.897590\n",
      "f1-score     0.918138    0.863271   0.89759    0.890704      0.897095\n",
      "support    307.000000  191.000000   0.89759  498.000000    498.000000\n",
      "\n",
      "Tree with max depth of 8\n",
      "                    0           1  accuracy   macro avg  weighted avg\n",
      "precision    0.916409    0.937143  0.923695    0.926776      0.924361\n",
      "recall       0.964169    0.858639  0.923695    0.911404      0.923695\n",
      "f1-score     0.939683    0.896175  0.923695    0.917929      0.922996\n",
      "support    307.000000  191.000000  0.923695  498.000000    498.000000\n",
      "\n",
      "Tree with max depth of 9\n",
      "                    0           1  accuracy   macro avg  weighted avg\n",
      "precision    0.946372    0.961326  0.951807    0.953849      0.952108\n",
      "recall       0.977199    0.910995  0.951807    0.944097      0.951807\n",
      "f1-score     0.961538    0.935484  0.951807    0.948511      0.951546\n",
      "support    307.000000  191.000000  0.951807  498.000000    498.000000\n",
      "\n",
      "Tree with max depth of 10\n",
      "                    0           1  accuracy   macro avg  weighted avg\n",
      "precision    0.944444    0.994253  0.961847    0.969349      0.963548\n",
      "recall       0.996743    0.905759  0.961847    0.951251      0.961847\n",
      "f1-score     0.969889    0.947945  0.961847    0.958917      0.961473\n",
      "support    307.000000  191.000000  0.961847  498.000000    498.000000\n",
      "\n",
      "Tree with max depth of 11\n",
      "                    0           1  accuracy   macro avg  weighted avg\n",
      "precision    0.971338    0.989130  0.977912    0.980234      0.978162\n",
      "recall       0.993485    0.952880  0.977912    0.973182      0.977912\n",
      "f1-score     0.982287    0.970667  0.977912    0.976477      0.977830\n",
      "support    307.000000  191.000000  0.977912  498.000000    498.000000\n",
      "\n",
      "Tree with max depth of 12\n",
      "                    0           1  accuracy   macro avg  weighted avg\n",
      "precision    0.983923    0.994652  0.987952    0.989288      0.988038\n",
      "recall       0.996743    0.973822  0.987952    0.985282      0.987952\n",
      "f1-score     0.990291    0.984127  0.987952    0.987209      0.987927\n",
      "support    307.000000  191.000000  0.987952  498.000000    498.000000\n",
      "\n",
      "Tree with max depth of 13\n",
      "                    0           1  accuracy   macro avg  weighted avg\n",
      "precision    0.987138    1.000000  0.991968    0.993569      0.992071\n",
      "recall       1.000000    0.979058  0.991968    0.989529      0.991968\n",
      "f1-score     0.993528    0.989418  0.991968    0.991473      0.991951\n",
      "support    307.000000  191.000000  0.991968  498.000000    498.000000\n",
      "\n",
      "Tree with max depth of 14\n",
      "                    0           1  accuracy   macro avg  weighted avg\n",
      "precision    0.996753    1.000000  0.997992    0.998377      0.997998\n",
      "recall       1.000000    0.994764  0.997992    0.997382      0.997992\n",
      "f1-score     0.998374    0.997375  0.997992    0.997875      0.997991\n",
      "support    307.000000  191.000000  0.997992  498.000000    498.000000\n",
      "\n",
      "Tree with max depth of 15\n",
      "               0      1  accuracy  macro avg  weighted avg\n",
      "precision    1.0    1.0       1.0        1.0           1.0\n",
      "recall       1.0    1.0       1.0        1.0           1.0\n",
      "f1-score     1.0    1.0       1.0        1.0           1.0\n",
      "support    307.0  191.0       1.0      498.0         498.0\n",
      "\n",
      "Tree with max depth of 16\n",
      "               0      1  accuracy  macro avg  weighted avg\n",
      "precision    1.0    1.0       1.0        1.0           1.0\n",
      "recall       1.0    1.0       1.0        1.0           1.0\n",
      "f1-score     1.0    1.0       1.0        1.0           1.0\n",
      "support    307.0  191.0       1.0      498.0         498.0\n",
      "\n",
      "Tree with max depth of 17\n",
      "               0      1  accuracy  macro avg  weighted avg\n",
      "precision    1.0    1.0       1.0        1.0           1.0\n",
      "recall       1.0    1.0       1.0        1.0           1.0\n",
      "f1-score     1.0    1.0       1.0        1.0           1.0\n",
      "support    307.0  191.0       1.0      498.0         498.0\n",
      "\n",
      "Tree with max depth of 18\n",
      "               0      1  accuracy  macro avg  weighted avg\n",
      "precision    1.0    1.0       1.0        1.0           1.0\n",
      "recall       1.0    1.0       1.0        1.0           1.0\n",
      "f1-score     1.0    1.0       1.0        1.0           1.0\n",
      "support    307.0  191.0       1.0      498.0         498.0\n",
      "\n",
      "Tree with max depth of 19\n",
      "               0      1  accuracy  macro avg  weighted avg\n",
      "precision    1.0    1.0       1.0        1.0           1.0\n",
      "recall       1.0    1.0       1.0        1.0           1.0\n",
      "f1-score     1.0    1.0       1.0        1.0           1.0\n",
      "support    307.0  191.0       1.0      498.0         498.0\n",
      "\n",
      "Tree with max depth of 20\n",
      "               0      1  accuracy  macro avg  weighted avg\n",
      "precision    1.0    1.0       1.0        1.0           1.0\n",
      "recall       1.0    1.0       1.0        1.0           1.0\n",
      "f1-score     1.0    1.0       1.0        1.0           1.0\n",
      "support    307.0  191.0       1.0      498.0         498.0\n",
      "\n"
     ]
    }
   ],
   "source": [
    "for i in range(2, 21):\n",
    "    # Make the model\n",
    "    tree = DecisionTreeClassifier(max_depth=i, random_state=123)\n",
    "\n",
    "    # Fit the model (on train and only train)\n",
    "    tree = tree.fit(X_train, y_train)\n",
    "\n",
    "    # Use the model\n",
    "    # We'll evaluate the model's performance on train, first\n",
    "    y_predictions = tree.predict(X_train)\n",
    "\n",
    "    # Produce the classification report on the actual y values and this model's predicted y values\n",
    "    report = classification_report(y_train, y_predictions, output_dict=True)\n",
    "    print(f\"Tree with max depth of {i}\")\n",
    "    print(pd.DataFrame(report))\n",
    "    print()"
   ]
  },
  {
   "cell_type": "code",
   "execution_count": 199,
   "metadata": {},
   "outputs": [],
   "source": [
    "# Max depth of 15+ highest accuracy"
   ]
  },
  {
   "cell_type": "code",
   "execution_count": 200,
   "metadata": {},
   "outputs": [
    {
     "data": {
      "text/html": [
       "<div>\n",
       "<style scoped>\n",
       "    .dataframe tbody tr th:only-of-type {\n",
       "        vertical-align: middle;\n",
       "    }\n",
       "\n",
       "    .dataframe tbody tr th {\n",
       "        vertical-align: top;\n",
       "    }\n",
       "\n",
       "    .dataframe thead th {\n",
       "        text-align: right;\n",
       "    }\n",
       "</style>\n",
       "<table border=\"1\" class=\"dataframe\">\n",
       "  <thead>\n",
       "    <tr style=\"text-align: right;\">\n",
       "      <th></th>\n",
       "      <th>max_depth</th>\n",
       "      <th>train_accuracy</th>\n",
       "      <th>validate_accuracy</th>\n",
       "      <th>difference</th>\n",
       "    </tr>\n",
       "  </thead>\n",
       "  <tbody>\n",
       "    <tr>\n",
       "      <th>0</th>\n",
       "      <td>2</td>\n",
       "      <td>0.799197</td>\n",
       "      <td>0.761682</td>\n",
       "      <td>0.037515</td>\n",
       "    </tr>\n",
       "    <tr>\n",
       "      <th>1</th>\n",
       "      <td>3</td>\n",
       "      <td>0.825301</td>\n",
       "      <td>0.799065</td>\n",
       "      <td>0.026236</td>\n",
       "    </tr>\n",
       "    <tr>\n",
       "      <th>2</th>\n",
       "      <td>4</td>\n",
       "      <td>0.847390</td>\n",
       "      <td>0.789720</td>\n",
       "      <td>0.057670</td>\n",
       "    </tr>\n",
       "    <tr>\n",
       "      <th>3</th>\n",
       "      <td>5</td>\n",
       "      <td>0.861446</td>\n",
       "      <td>0.771028</td>\n",
       "      <td>0.090418</td>\n",
       "    </tr>\n",
       "    <tr>\n",
       "      <th>4</th>\n",
       "      <td>6</td>\n",
       "      <td>0.875502</td>\n",
       "      <td>0.780374</td>\n",
       "      <td>0.095128</td>\n",
       "    </tr>\n",
       "    <tr>\n",
       "      <th>5</th>\n",
       "      <td>7</td>\n",
       "      <td>0.897590</td>\n",
       "      <td>0.771028</td>\n",
       "      <td>0.126562</td>\n",
       "    </tr>\n",
       "    <tr>\n",
       "      <th>6</th>\n",
       "      <td>8</td>\n",
       "      <td>0.923695</td>\n",
       "      <td>0.780374</td>\n",
       "      <td>0.143321</td>\n",
       "    </tr>\n",
       "    <tr>\n",
       "      <th>7</th>\n",
       "      <td>9</td>\n",
       "      <td>0.951807</td>\n",
       "      <td>0.766355</td>\n",
       "      <td>0.185452</td>\n",
       "    </tr>\n",
       "    <tr>\n",
       "      <th>8</th>\n",
       "      <td>10</td>\n",
       "      <td>0.961847</td>\n",
       "      <td>0.766355</td>\n",
       "      <td>0.195492</td>\n",
       "    </tr>\n",
       "    <tr>\n",
       "      <th>9</th>\n",
       "      <td>11</td>\n",
       "      <td>0.977912</td>\n",
       "      <td>0.771028</td>\n",
       "      <td>0.206884</td>\n",
       "    </tr>\n",
       "    <tr>\n",
       "      <th>10</th>\n",
       "      <td>12</td>\n",
       "      <td>0.987952</td>\n",
       "      <td>0.771028</td>\n",
       "      <td>0.216924</td>\n",
       "    </tr>\n",
       "    <tr>\n",
       "      <th>11</th>\n",
       "      <td>13</td>\n",
       "      <td>0.991968</td>\n",
       "      <td>0.747664</td>\n",
       "      <td>0.244304</td>\n",
       "    </tr>\n",
       "    <tr>\n",
       "      <th>12</th>\n",
       "      <td>14</td>\n",
       "      <td>0.997992</td>\n",
       "      <td>0.742991</td>\n",
       "      <td>0.255001</td>\n",
       "    </tr>\n",
       "    <tr>\n",
       "      <th>13</th>\n",
       "      <td>15</td>\n",
       "      <td>1.000000</td>\n",
       "      <td>0.733645</td>\n",
       "      <td>0.266355</td>\n",
       "    </tr>\n",
       "    <tr>\n",
       "      <th>14</th>\n",
       "      <td>16</td>\n",
       "      <td>1.000000</td>\n",
       "      <td>0.733645</td>\n",
       "      <td>0.266355</td>\n",
       "    </tr>\n",
       "    <tr>\n",
       "      <th>15</th>\n",
       "      <td>17</td>\n",
       "      <td>1.000000</td>\n",
       "      <td>0.733645</td>\n",
       "      <td>0.266355</td>\n",
       "    </tr>\n",
       "    <tr>\n",
       "      <th>16</th>\n",
       "      <td>18</td>\n",
       "      <td>1.000000</td>\n",
       "      <td>0.733645</td>\n",
       "      <td>0.266355</td>\n",
       "    </tr>\n",
       "    <tr>\n",
       "      <th>17</th>\n",
       "      <td>19</td>\n",
       "      <td>1.000000</td>\n",
       "      <td>0.733645</td>\n",
       "      <td>0.266355</td>\n",
       "    </tr>\n",
       "    <tr>\n",
       "      <th>18</th>\n",
       "      <td>20</td>\n",
       "      <td>1.000000</td>\n",
       "      <td>0.733645</td>\n",
       "      <td>0.266355</td>\n",
       "    </tr>\n",
       "    <tr>\n",
       "      <th>19</th>\n",
       "      <td>21</td>\n",
       "      <td>1.000000</td>\n",
       "      <td>0.733645</td>\n",
       "      <td>0.266355</td>\n",
       "    </tr>\n",
       "    <tr>\n",
       "      <th>20</th>\n",
       "      <td>22</td>\n",
       "      <td>1.000000</td>\n",
       "      <td>0.733645</td>\n",
       "      <td>0.266355</td>\n",
       "    </tr>\n",
       "    <tr>\n",
       "      <th>21</th>\n",
       "      <td>23</td>\n",
       "      <td>1.000000</td>\n",
       "      <td>0.733645</td>\n",
       "      <td>0.266355</td>\n",
       "    </tr>\n",
       "    <tr>\n",
       "      <th>22</th>\n",
       "      <td>24</td>\n",
       "      <td>1.000000</td>\n",
       "      <td>0.733645</td>\n",
       "      <td>0.266355</td>\n",
       "    </tr>\n",
       "  </tbody>\n",
       "</table>\n",
       "</div>"
      ],
      "text/plain": [
       "    max_depth  train_accuracy  validate_accuracy  difference\n",
       "0           2        0.799197           0.761682    0.037515\n",
       "1           3        0.825301           0.799065    0.026236\n",
       "2           4        0.847390           0.789720    0.057670\n",
       "3           5        0.861446           0.771028    0.090418\n",
       "4           6        0.875502           0.780374    0.095128\n",
       "5           7        0.897590           0.771028    0.126562\n",
       "6           8        0.923695           0.780374    0.143321\n",
       "7           9        0.951807           0.766355    0.185452\n",
       "8          10        0.961847           0.766355    0.195492\n",
       "9          11        0.977912           0.771028    0.206884\n",
       "10         12        0.987952           0.771028    0.216924\n",
       "11         13        0.991968           0.747664    0.244304\n",
       "12         14        0.997992           0.742991    0.255001\n",
       "13         15        1.000000           0.733645    0.266355\n",
       "14         16        1.000000           0.733645    0.266355\n",
       "15         17        1.000000           0.733645    0.266355\n",
       "16         18        1.000000           0.733645    0.266355\n",
       "17         19        1.000000           0.733645    0.266355\n",
       "18         20        1.000000           0.733645    0.266355\n",
       "19         21        1.000000           0.733645    0.266355\n",
       "20         22        1.000000           0.733645    0.266355\n",
       "21         23        1.000000           0.733645    0.266355\n",
       "22         24        1.000000           0.733645    0.266355"
      ]
     },
     "execution_count": 200,
     "metadata": {},
     "output_type": "execute_result"
    }
   ],
   "source": [
    "metrics = []\n",
    "\n",
    "for i in range(2, 25):\n",
    "    # Make the model\n",
    "    tree = DecisionTreeClassifier(max_depth=i, random_state=123)\n",
    "\n",
    "    # Fit the model (on train and only train)\n",
    "    tree = tree.fit(X_train, y_train)\n",
    "\n",
    "    # Use the model\n",
    "    # We'll evaluate the model's performance on train, first\n",
    "    in_sample_accuracy = tree.score(X_train, y_train)\n",
    "    \n",
    "    out_of_sample_accuracy = tree.score(X_validate, y_validate)\n",
    "\n",
    "    output = {\n",
    "        \"max_depth\": i,\n",
    "        \"train_accuracy\": in_sample_accuracy,\n",
    "        \"validate_accuracy\": out_of_sample_accuracy\n",
    "    }\n",
    "    \n",
    "    metrics.append(output)\n",
    "    \n",
    "df = pd.DataFrame(metrics)\n",
    "df[\"difference\"] = df.train_accuracy - df.validate_accuracy\n",
    "df"
   ]
  },
  {
   "cell_type": "code",
   "execution_count": 201,
   "metadata": {},
   "outputs": [
    {
     "data": {
      "text/html": [
       "<div>\n",
       "<style scoped>\n",
       "    .dataframe tbody tr th:only-of-type {\n",
       "        vertical-align: middle;\n",
       "    }\n",
       "\n",
       "    .dataframe tbody tr th {\n",
       "        vertical-align: top;\n",
       "    }\n",
       "\n",
       "    .dataframe thead th {\n",
       "        text-align: right;\n",
       "    }\n",
       "</style>\n",
       "<table border=\"1\" class=\"dataframe\">\n",
       "  <thead>\n",
       "    <tr style=\"text-align: right;\">\n",
       "      <th></th>\n",
       "      <th>max_depth</th>\n",
       "      <th>train_accuracy</th>\n",
       "      <th>validate_accuracy</th>\n",
       "      <th>difference</th>\n",
       "    </tr>\n",
       "  </thead>\n",
       "  <tbody>\n",
       "    <tr>\n",
       "      <th>1</th>\n",
       "      <td>3</td>\n",
       "      <td>0.825301</td>\n",
       "      <td>0.799065</td>\n",
       "      <td>0.026236</td>\n",
       "    </tr>\n",
       "    <tr>\n",
       "      <th>2</th>\n",
       "      <td>4</td>\n",
       "      <td>0.847390</td>\n",
       "      <td>0.789720</td>\n",
       "      <td>0.057670</td>\n",
       "    </tr>\n",
       "    <tr>\n",
       "      <th>4</th>\n",
       "      <td>6</td>\n",
       "      <td>0.875502</td>\n",
       "      <td>0.780374</td>\n",
       "      <td>0.095128</td>\n",
       "    </tr>\n",
       "    <tr>\n",
       "      <th>3</th>\n",
       "      <td>5</td>\n",
       "      <td>0.861446</td>\n",
       "      <td>0.771028</td>\n",
       "      <td>0.090418</td>\n",
       "    </tr>\n",
       "    <tr>\n",
       "      <th>0</th>\n",
       "      <td>2</td>\n",
       "      <td>0.799197</td>\n",
       "      <td>0.761682</td>\n",
       "      <td>0.037515</td>\n",
       "    </tr>\n",
       "  </tbody>\n",
       "</table>\n",
       "</div>"
      ],
      "text/plain": [
       "   max_depth  train_accuracy  validate_accuracy  difference\n",
       "1          3        0.825301           0.799065    0.026236\n",
       "2          4        0.847390           0.789720    0.057670\n",
       "4          6        0.875502           0.780374    0.095128\n",
       "3          5        0.861446           0.771028    0.090418\n",
       "0          2        0.799197           0.761682    0.037515"
      ]
     },
     "execution_count": 201,
     "metadata": {},
     "output_type": "execute_result"
    }
   ],
   "source": [
    "df[df.difference <= 0.10].sort_values(by=['validate_accuracy', 'difference'], ascending = [False,True])\n"
   ]
  },
  {
   "cell_type": "code",
   "execution_count": 317,
   "metadata": {},
   "outputs": [],
   "source": [
    "from sklearn.ensemble import RandomForestClassifier\n",
    "\n",
    "rf = RandomForestClassifier(bootstrap=True, \n",
    "                            class_weight=None, \n",
    "                            criterion='gini',\n",
    "                            min_samples_leaf=3,\n",
    "                            n_estimators=100,\n",
    "                            max_depth=15, \n",
    "                            random_state=123)"
   ]
  },
  {
   "cell_type": "code",
   "execution_count": 318,
   "metadata": {},
   "outputs": [
    {
     "data": {
      "text/plain": [
       "RandomForestClassifier(max_depth=15, min_samples_leaf=3, random_state=123)"
      ]
     },
     "execution_count": 318,
     "metadata": {},
     "output_type": "execute_result"
    }
   ],
   "source": [
    "rf.fit(X_train, y_train)"
   ]
  },
  {
   "cell_type": "code",
   "execution_count": 319,
   "metadata": {},
   "outputs": [
    {
     "name": "stdout",
     "output_type": "stream",
     "text": [
      "[0.12334013 0.10634334 0.11701485 0.04041906 0.01817951 0.17872061\n",
      " 0.01895796 0.36778099 0.0123748  0.01686874]\n"
     ]
    }
   ],
   "source": [
    "print(rf.feature_importances_)"
   ]
  },
  {
   "cell_type": "code",
   "execution_count": 320,
   "metadata": {},
   "outputs": [],
   "source": [
    "y_pred = rf.predict(X_train)"
   ]
  },
  {
   "cell_type": "code",
   "execution_count": 321,
   "metadata": {},
   "outputs": [],
   "source": [
    "y_pred_proba = rf.predict_proba(X_train)"
   ]
  },
  {
   "cell_type": "code",
   "execution_count": 322,
   "metadata": {},
   "outputs": [
    {
     "name": "stdout",
     "output_type": "stream",
     "text": [
      "Accuracy of random forest classifier on training set: 0.93\n"
     ]
    }
   ],
   "source": [
    "print('Accuracy of random forest classifier on training set: {:.2f}'\n",
    "     .format(rf.score(X_train, y_train)))"
   ]
  },
  {
   "cell_type": "code",
   "execution_count": 323,
   "metadata": {},
   "outputs": [
    {
     "data": {
      "text/html": [
       "<div>\n",
       "<style scoped>\n",
       "    .dataframe tbody tr th:only-of-type {\n",
       "        vertical-align: middle;\n",
       "    }\n",
       "\n",
       "    .dataframe tbody tr th {\n",
       "        vertical-align: top;\n",
       "    }\n",
       "\n",
       "    .dataframe thead th {\n",
       "        text-align: right;\n",
       "    }\n",
       "</style>\n",
       "<table border=\"1\" class=\"dataframe\">\n",
       "  <thead>\n",
       "    <tr style=\"text-align: right;\">\n",
       "      <th></th>\n",
       "      <th>0</th>\n",
       "      <th>1</th>\n",
       "    </tr>\n",
       "  </thead>\n",
       "  <tbody>\n",
       "    <tr>\n",
       "      <th>0</th>\n",
       "      <td>301</td>\n",
       "      <td>6</td>\n",
       "    </tr>\n",
       "    <tr>\n",
       "      <th>1</th>\n",
       "      <td>31</td>\n",
       "      <td>160</td>\n",
       "    </tr>\n",
       "  </tbody>\n",
       "</table>\n",
       "</div>"
      ],
      "text/plain": [
       "     0    1\n",
       "0  301    6\n",
       "1   31  160"
      ]
     },
     "execution_count": 323,
     "metadata": {},
     "output_type": "execute_result"
    }
   ],
   "source": [
    "pd.DataFrame(confusion_matrix(y_train, y_pred))"
   ]
  },
  {
   "cell_type": "code",
   "execution_count": 324,
   "metadata": {},
   "outputs": [
    {
     "name": "stdout",
     "output_type": "stream",
     "text": [
      "[[301   6]\n",
      " [ 31 160]]\n"
     ]
    }
   ],
   "source": [
    "print(confusion_matrix(y_train, y_pred))"
   ]
  },
  {
   "cell_type": "code",
   "execution_count": 325,
   "metadata": {},
   "outputs": [],
   "source": [
    "TP = 301\n",
    "TN = 160\n",
    "FP = 6\n",
    "FN = 31"
   ]
  },
  {
   "cell_type": "code",
   "execution_count": 326,
   "metadata": {},
   "outputs": [
    {
     "name": "stdout",
     "output_type": "stream",
     "text": [
      "True Positive Rate: 0.9066265060240963\n",
      "False Positive Rate: 0.03614457831325301\n",
      "True Negative Rate: 0.963855421686747\n",
      "False Negative Rate: 0.09337349397590361\n"
     ]
    }
   ],
   "source": [
    "true_positive_rate = TP/(TP+FN)\n",
    "print(f\"True Positive Rate: {true_positive_rate}\")\n",
    "\n",
    "false_positive_rate = FP/(FP+TN)\n",
    "print(f\"False Positive Rate: {false_positive_rate}\")\n",
    "\n",
    "true_negative_rate = TN/(TN+FP)\n",
    "print(f\"True Negative Rate: {true_negative_rate}\")\n",
    "\n",
    "false_negative_rate = FN/(FN+TP)\n",
    "print(f\"False Negative Rate: {false_negative_rate}\")"
   ]
  },
  {
   "cell_type": "code",
   "execution_count": 327,
   "metadata": {},
   "outputs": [
    {
     "name": "stdout",
     "output_type": "stream",
     "text": [
      "              precision    recall  f1-score   support\n",
      "\n",
      "           0       0.91      0.98      0.94       307\n",
      "           1       0.96      0.84      0.90       191\n",
      "\n",
      "    accuracy                           0.93       498\n",
      "   macro avg       0.94      0.91      0.92       498\n",
      "weighted avg       0.93      0.93      0.92       498\n",
      "\n"
     ]
    }
   ],
   "source": [
    "print(classification_report(y_train, y_pred))"
   ]
  },
  {
   "cell_type": "code",
   "execution_count": 328,
   "metadata": {},
   "outputs": [
    {
     "name": "stdout",
     "output_type": "stream",
     "text": [
      "Accuracy of random forest classifier on test set: 0.79\n"
     ]
    }
   ],
   "source": [
    "print('Accuracy of random forest classifier on test set: {:.2f}'\n",
    "     .format(rf.score(X_validate, y_validate)))"
   ]
  },
  {
   "cell_type": "code",
   "execution_count": 345,
   "metadata": {},
   "outputs": [],
   "source": [
    "from sklearn.neighbors import KNeighborsClassifier"
   ]
  },
  {
   "cell_type": "code",
   "execution_count": 346,
   "metadata": {},
   "outputs": [],
   "source": [
    "# weights = ['uniform', 'density']\n",
    "knn = KNeighborsClassifier(n_neighbors=5, weights='uniform')"
   ]
  },
  {
   "cell_type": "code",
   "execution_count": 347,
   "metadata": {},
   "outputs": [
    {
     "data": {
      "text/plain": [
       "KNeighborsClassifier()"
      ]
     },
     "execution_count": 347,
     "metadata": {},
     "output_type": "execute_result"
    }
   ],
   "source": [
    "knn.fit(X_train, y_train)"
   ]
  },
  {
   "cell_type": "code",
   "execution_count": 348,
   "metadata": {},
   "outputs": [],
   "source": [
    "y_pred = knn.predict(X_train)"
   ]
  },
  {
   "cell_type": "code",
   "execution_count": 349,
   "metadata": {},
   "outputs": [],
   "source": [
    "y_pred_proba = knn.predict_proba(X_train)"
   ]
  },
  {
   "cell_type": "code",
   "execution_count": 350,
   "metadata": {},
   "outputs": [
    {
     "name": "stdout",
     "output_type": "stream",
     "text": [
      "Accuracy of KNN classifier on training set: 0.75\n"
     ]
    }
   ],
   "source": [
    "print('Accuracy of KNN classifier on training set: {:.2f}'\n",
    "     .format(knn.score(X_train, y_train)))"
   ]
  },
  {
   "cell_type": "code",
   "execution_count": 351,
   "metadata": {},
   "outputs": [
    {
     "name": "stdout",
     "output_type": "stream",
     "text": [
      "[[266  41]\n",
      " [ 85 106]]\n"
     ]
    }
   ],
   "source": [
    "print(confusion_matrix(y_train, y_pred))"
   ]
  },
  {
   "cell_type": "code",
   "execution_count": 355,
   "metadata": {},
   "outputs": [],
   "source": [
    "TP = 266\n",
    "TN = 106\n",
    "FP = 41\n",
    "FN = 85"
   ]
  },
  {
   "cell_type": "code",
   "execution_count": 356,
   "metadata": {},
   "outputs": [
    {
     "name": "stdout",
     "output_type": "stream",
     "text": [
      "Accuracy: 0.7469879518072289\n",
      "True Positive Rate: 0.7578347578347578\n",
      "False Positive Rate: 0.2789115646258503\n",
      "True Negative Rate: 0.7210884353741497\n",
      "False Negative Rate: 0.24216524216524216\n",
      "Precision: 0.8664495114006515\n",
      "Recall: 0.7578347578347578\n",
      "F1 Score: 0.8085106382978724\n",
      "Support (0): 351\n",
      "Support (1): 147\n"
     ]
    }
   ],
   "source": [
    "ALL = TP + FP + FN + TN\n",
    "\n",
    "accuracy = (TP + TN)/ALL\n",
    "print(f\"Accuracy: {accuracy}\")\n",
    "\n",
    "true_positive_rate = TP/(TP+FN)\n",
    "print(f\"True Positive Rate: {true_positive_rate}\")\n",
    "\n",
    "false_positive_rate = FP/(FP+TN)\n",
    "print(f\"False Positive Rate: {false_positive_rate}\")\n",
    "\n",
    "true_negative_rate = TN/(TN+FP)\n",
    "print(f\"True Negative Rate: {true_negative_rate}\")\n",
    "\n",
    "false_negative_rate = FN/(FN+TP)\n",
    "print(f\"False Negative Rate: {false_negative_rate}\")\n",
    "\n",
    "precision = TP/(TP+FP)\n",
    "print(f\"Precision: {precision}\")\n",
    "\n",
    "recall = TP/(TP+FN)\n",
    "print(f\"Recall: {recall}\")\n",
    "\n",
    "f1_score = 2*(precision*recall)/(precision+recall)\n",
    "print(f\"F1 Score: {f1_score}\")\n",
    "\n",
    "support_pos = TP + FN\n",
    "print(f\"Support (0): {support_pos}\")\n",
    "\n",
    "support_neg = FP + TN\n",
    "print(f\"Support (1): {support_neg}\")"
   ]
  },
  {
   "cell_type": "code",
   "execution_count": 352,
   "metadata": {},
   "outputs": [
    {
     "name": "stdout",
     "output_type": "stream",
     "text": [
      "              precision    recall  f1-score   support\n",
      "\n",
      "           0       0.76      0.87      0.81       307\n",
      "           1       0.72      0.55      0.63       191\n",
      "\n",
      "    accuracy                           0.75       498\n",
      "   macro avg       0.74      0.71      0.72       498\n",
      "weighted avg       0.74      0.75      0.74       498\n",
      "\n"
     ]
    }
   ],
   "source": [
    "print(classification_report(y_train, y_pred))"
   ]
  },
  {
   "cell_type": "code",
   "execution_count": 354,
   "metadata": {},
   "outputs": [
    {
     "name": "stdout",
     "output_type": "stream",
     "text": [
      "Accuracy of KNN classifier on test set: 0.62\n"
     ]
    }
   ],
   "source": [
    "print('Accuracy of KNN classifier on test set: {:.2f}'\n",
    "     .format(knn.score(X_validate, y_validate)))"
   ]
  },
  {
   "cell_type": "code",
   "execution_count": 357,
   "metadata": {},
   "outputs": [
    {
     "data": {
      "image/png": "[encoded data removed]",
      "text/plain": [
       "<Figure size 432x288 with 1 Axes>"
      ]
     },
     "metadata": {
      "needs_background": "light"
     },
     "output_type": "display_data"
    }
   ],
   "source": [
    "import matplotlib.pyplot as plt\n",
    "k_range = range(1, 20)\n",
    "scores = []\n",
    "for k in k_range:\n",
    "    knn = KNeighborsClassifier(n_neighbors = k)\n",
    "    knn.fit(X_train, y_train)\n",
    "    scores.append(knn.score(X_test, y_test))\n",
    "plt.figure()\n",
    "plt.xlabel('k')\n",
    "plt.ylabel('accuracy')\n",
    "plt.scatter(k_range, scores)\n",
    "plt.xticks([0,5,10,15,20])\n",
    "plt.show()"
   ]
  },
  {
   "cell_type": "code",
   "execution_count": 393,
   "metadata": {},
   "outputs": [],
   "source": [
    "from sklearn.linear_model import LogisticRegression\n",
    "import sklearn.linear_model\n"
   ]
  },
  {
   "cell_type": "code",
   "execution_count": 394,
   "metadata": {},
   "outputs": [
    {
     "data": {
      "text/html": [
       "<div>\n",
       "<style scoped>\n",
       "    .dataframe tbody tr th:only-of-type {\n",
       "        vertical-align: middle;\n",
       "    }\n",
       "\n",
       "    .dataframe tbody tr th {\n",
       "        vertical-align: top;\n",
       "    }\n",
       "\n",
       "    .dataframe thead th {\n",
       "        text-align: right;\n",
       "    }\n",
       "</style>\n",
       "<table border=\"1\" class=\"dataframe\">\n",
       "  <thead>\n",
       "    <tr style=\"text-align: right;\">\n",
       "      <th></th>\n",
       "      <th>passenger_id</th>\n",
       "      <th>survived</th>\n",
       "      <th>pclass</th>\n",
       "      <th>age</th>\n",
       "      <th>sibsp</th>\n",
       "      <th>parch</th>\n",
       "      <th>fare</th>\n",
       "      <th>alone</th>\n",
       "      <th>sex_male</th>\n",
       "      <th>embark_town_Queenstown</th>\n",
       "      <th>embark_town_Southampton</th>\n",
       "    </tr>\n",
       "  </thead>\n",
       "  <tbody>\n",
       "    <tr>\n",
       "      <th>0</th>\n",
       "      <td>0</td>\n",
       "      <td>0</td>\n",
       "      <td>3</td>\n",
       "      <td>22.0</td>\n",
       "      <td>1</td>\n",
       "      <td>0</td>\n",
       "      <td>7.2500</td>\n",
       "      <td>0</td>\n",
       "      <td>1</td>\n",
       "      <td>0</td>\n",
       "      <td>1</td>\n",
       "    </tr>\n",
       "    <tr>\n",
       "      <th>1</th>\n",
       "      <td>1</td>\n",
       "      <td>1</td>\n",
       "      <td>1</td>\n",
       "      <td>38.0</td>\n",
       "      <td>1</td>\n",
       "      <td>0</td>\n",
       "      <td>71.2833</td>\n",
       "      <td>0</td>\n",
       "      <td>0</td>\n",
       "      <td>0</td>\n",
       "      <td>0</td>\n",
       "    </tr>\n",
       "    <tr>\n",
       "      <th>2</th>\n",
       "      <td>2</td>\n",
       "      <td>1</td>\n",
       "      <td>3</td>\n",
       "      <td>26.0</td>\n",
       "      <td>0</td>\n",
       "      <td>0</td>\n",
       "      <td>7.9250</td>\n",
       "      <td>1</td>\n",
       "      <td>0</td>\n",
       "      <td>0</td>\n",
       "      <td>1</td>\n",
       "    </tr>\n",
       "    <tr>\n",
       "      <th>3</th>\n",
       "      <td>3</td>\n",
       "      <td>1</td>\n",
       "      <td>1</td>\n",
       "      <td>35.0</td>\n",
       "      <td>1</td>\n",
       "      <td>0</td>\n",
       "      <td>53.1000</td>\n",
       "      <td>0</td>\n",
       "      <td>0</td>\n",
       "      <td>0</td>\n",
       "      <td>1</td>\n",
       "    </tr>\n",
       "    <tr>\n",
       "      <th>4</th>\n",
       "      <td>4</td>\n",
       "      <td>0</td>\n",
       "      <td>3</td>\n",
       "      <td>35.0</td>\n",
       "      <td>0</td>\n",
       "      <td>0</td>\n",
       "      <td>8.0500</td>\n",
       "      <td>1</td>\n",
       "      <td>1</td>\n",
       "      <td>0</td>\n",
       "      <td>1</td>\n",
       "    </tr>\n",
       "  </tbody>\n",
       "</table>\n",
       "</div>"
      ],
      "text/plain": [
       "   passenger_id  survived  pclass   age  sibsp  parch     fare  alone  \\\n",
       "0             0         0       3  22.0      1      0   7.2500      0   \n",
       "1             1         1       1  38.0      1      0  71.2833      0   \n",
       "2             2         1       3  26.0      0      0   7.9250      1   \n",
       "3             3         1       1  35.0      1      0  53.1000      0   \n",
       "4             4         0       3  35.0      0      0   8.0500      1   \n",
       "\n",
       "   sex_male  embark_town_Queenstown  embark_town_Southampton  \n",
       "0         1                       0                        1  \n",
       "1         0                       0                        0  \n",
       "2         0                       0                        1  \n",
       "3         0                       0                        1  \n",
       "4         1                       0                        1  "
      ]
     },
     "execution_count": 394,
     "metadata": {},
     "output_type": "execute_result"
    }
   ],
   "source": [
    "df.head()"
   ]
  },
  {
   "cell_type": "code",
   "execution_count": 395,
   "metadata": {},
   "outputs": [],
   "source": [
    "X_train = train.drop(columns=['survived'])\n",
    "y_train = train.survived\n",
    "\n",
    "X_validate = validate.drop(columns=['survived'])\n",
    "y_validate = validate.survived\n",
    "\n",
    "X_test = test.drop(columns=['survived'])\n",
    "y_test = test.survived"
   ]
  },
  {
   "cell_type": "code",
   "execution_count": 439,
   "metadata": {},
   "outputs": [],
   "source": [
    "logit1 = LogisticRegression(random_state=123)"
   ]
  },
  {
   "cell_type": "code",
   "execution_count": 423,
   "metadata": {},
   "outputs": [],
   "source": [
    "features = ['age', 'pclass', 'fare']"
   ]
  },
  {
   "cell_type": "code",
   "execution_count": 440,
   "metadata": {},
   "outputs": [
    {
     "data": {
      "text/plain": [
       "LogisticRegression(random_state=123)"
      ]
     },
     "execution_count": 440,
     "metadata": {},
     "output_type": "execute_result"
    }
   ],
   "source": [
    "logit1.fit(X_train[features], y_train)"
   ]
  },
  {
   "cell_type": "code",
   "execution_count": 441,
   "metadata": {},
   "outputs": [],
   "source": [
    "y_pred = logit1.predict(X_train[features])"
   ]
  },
  {
   "cell_type": "code",
   "execution_count": 442,
   "metadata": {},
   "outputs": [
    {
     "name": "stdout",
     "output_type": "stream",
     "text": [
      "Baseline is 0.62\n",
      "Logistic Regression using age, pclass, and fare features\n",
      "Accuracy of Logistic Regression classifier on training set: 0.63\n"
     ]
    }
   ],
   "source": [
    "print('Baseline is', round(baseline_accuracy, 2))\n",
    "print('Logistic Regression using age, pclass, and fare features')\n",
    "print('Accuracy of Logistic Regression classifier on training set: {:.2f}'\n",
    "     .format(logit1.score(X_train[features], y_train)))"
   ]
  },
  {
   "cell_type": "code",
   "execution_count": 444,
   "metadata": {},
   "outputs": [],
   "source": [
    "features = ['age', 'pclass', 'fare', 'sex_male']\n",
    "logit1.fit(X_train[features], y_train)\n",
    "y_pred = logit1.predict(X_train[features])"
   ]
  },
  {
   "cell_type": "code",
   "execution_count": 445,
   "metadata": {},
   "outputs": [
    {
     "name": "stdout",
     "output_type": "stream",
     "text": [
      "Baseline is 0.62\n",
      "Logistic Regression using age, pclass, and fare features\n",
      "Accuracy of Logistic Regression classifier on training set: 0.81\n"
     ]
    }
   ],
   "source": [
    "print('Baseline is', round(baseline_accuracy, 2))\n",
    "print('Logistic Regression using age, pclass, and fare features')\n",
    "print('Accuracy of Logistic Regression classifier on training set: {:.2f}'\n",
    "     .format(logit1.score(X_train[features], y_train)))"
   ]
  },
  {
   "cell_type": "code",
   "execution_count": 448,
   "metadata": {},
   "outputs": [
    {
     "name": "stdout",
     "output_type": "stream",
     "text": [
      "Baseline is 0.62\n",
      "Logistic Regression using just pclass feature\n",
      "Accuracy of Logistic Regression classifier on training set: 0.67\n"
     ]
    }
   ],
   "source": [
    "features = ['pclass'] #just pclass\n",
    "logit1.fit(X_train[features], y_train)\n",
    "y_pred = logit1.predict(X_train[features])\n",
    "\n",
    "print('Baseline is', round(baseline_accuracy, 2))\n",
    "print('Logistic Regression using just pclass feature')\n",
    "print('Accuracy of Logistic Regression classifier on training set: {:.2f}'\n",
    "     .format(logit1.score(X_train[features], y_train)))"
   ]
  },
  {
   "cell_type": "code",
   "execution_count": 449,
   "metadata": {},
   "outputs": [
    {
     "name": "stdout",
     "output_type": "stream",
     "text": [
      "Baseline is 0.62\n",
      "Logistic Regression using age, pclass, sex and fare features with added C value\n",
      "Accuracy of Logistic Regression classifier on training set: 0.81\n"
     ]
    }
   ],
   "source": [
    "logit2 = LogisticRegression(random_state=123, C = 5) # added C value = 5\n",
    "\n",
    "features = ['age', 'pclass', 'fare', 'sex_male']\n",
    "logit2.fit(X_train[features], y_train)\n",
    "y_pred = logit2.predict(X_train[features])\n",
    "\n",
    "print('Baseline is', round(baseline_accuracy, 2))\n",
    "print('Logistic Regression using age, pclass, sex and fare features with added C value')\n",
    "print('Accuracy of Logistic Regression classifier on training set: {:.2f}'\n",
    "     .format(logit2.score(X_train[features], y_train)))"
   ]
  },
  {
   "cell_type": "code",
   "execution_count": 450,
   "metadata": {},
   "outputs": [
    {
     "name": "stdout",
     "output_type": "stream",
     "text": [
      "Baseline is 0.62\n",
      "Logistic Regression using age and fare features\n",
      "Accuracy of Logistic Regression classifier on training set: 0.63\n"
     ]
    }
   ],
   "source": [
    "logit3 = LogisticRegression(random_state=123)\n",
    "\n",
    "features = ['age', 'fare',] # age and fare only\n",
    "logit3.fit(X_train[features], y_train)\n",
    "y_pred = logit3.predict(X_train[features])\n",
    "\n",
    "print('Baseline is', round(baseline_accuracy, 2))\n",
    "print('Logistic Regression using age and fare features')\n",
    "print('Accuracy of Logistic Regression classifier on training set: {:.2f}'\n",
    "     .format(logit3.score(X_train[features], y_train)))"
   ]
  },
  {
   "cell_type": "code",
   "execution_count": 453,
   "metadata": {},
   "outputs": [
    {
     "name": "stdout",
     "output_type": "stream",
     "text": [
      "Baseline is 0.62\n",
      "Logistic Regression using age, pclass, sex and fare features with added C value\n",
      "Accuracy of Logistic Regression classifier on training set: 0.81\n"
     ]
    }
   ],
   "source": [
    "logit2 = LogisticRegression(random_state=123, C = 5) # added C value = 5\n",
    "\n",
    "features = ['age', 'pclass', 'fare', 'sex_male']\n",
    "logit2.fit(X_train[features], y_train)\n",
    "y_pred = logit2.predict(X_validate[features])\n",
    "print('Baseline is', round(baseline_accuracy, 2))\n",
    "print('Logistic Regression using age, pclass, sex and fare features with added C value')\n",
    "print('Accuracy of Logistic Regression classifier on training set: {:.2f}'\n",
    "     .format(logit2.score(X_train[features], y_train)))"
   ]
  },
  {
   "cell_type": "code",
   "execution_count": 454,
   "metadata": {},
   "outputs": [
    {
     "name": "stdout",
     "output_type": "stream",
     "text": [
      "              precision    recall  f1-score   support\n",
      "\n",
      "           0       0.81      0.83      0.82       132\n",
      "           1       0.71      0.68      0.70        82\n",
      "\n",
      "    accuracy                           0.77       214\n",
      "   macro avg       0.76      0.75      0.76       214\n",
      "weighted avg       0.77      0.77      0.77       214\n",
      "\n"
     ]
    }
   ],
   "source": [
    "print(classification_report(y_validate, y_pred))"
   ]
  },
  {
   "cell_type": "code",
   "execution_count": 74,
   "metadata": {},
   "outputs": [
    {
     "data": {
      "text/html": [
       "<div>\n",
       "<style scoped>\n",
       "    .dataframe tbody tr th:only-of-type {\n",
       "        vertical-align: middle;\n",
       "    }\n",
       "\n",
       "    .dataframe tbody tr th {\n",
       "        vertical-align: top;\n",
       "    }\n",
       "\n",
       "    .dataframe thead th {\n",
       "        text-align: right;\n",
       "    }\n",
       "</style>\n",
       "<table border=\"1\" class=\"dataframe\">\n",
       "  <thead>\n",
       "    <tr style=\"text-align: right;\">\n",
       "      <th></th>\n",
       "      <th>Unnamed: 0</th>\n",
       "      <th>payment_type_id</th>\n",
       "      <th>internet_service_type_id</th>\n",
       "      <th>contract_type_id</th>\n",
       "      <th>customer_id</th>\n",
       "      <th>gender</th>\n",
       "      <th>senior_citizen</th>\n",
       "      <th>partner</th>\n",
       "      <th>dependents</th>\n",
       "      <th>tenure</th>\n",
       "      <th>...</th>\n",
       "      <th>tech_support</th>\n",
       "      <th>streaming_tv</th>\n",
       "      <th>streaming_movies</th>\n",
       "      <th>paperless_billing</th>\n",
       "      <th>monthly_charges</th>\n",
       "      <th>total_charges</th>\n",
       "      <th>churn</th>\n",
       "      <th>contract_type</th>\n",
       "      <th>internet_service_type</th>\n",
       "      <th>payment_type</th>\n",
       "    </tr>\n",
       "  </thead>\n",
       "  <tbody>\n",
       "    <tr>\n",
       "      <th>0</th>\n",
       "      <td>0</td>\n",
       "      <td>2</td>\n",
       "      <td>1</td>\n",
       "      <td>2</td>\n",
       "      <td>0002-ORFBO</td>\n",
       "      <td>Female</td>\n",
       "      <td>0</td>\n",
       "      <td>Yes</td>\n",
       "      <td>Yes</td>\n",
       "      <td>9</td>\n",
       "      <td>...</td>\n",
       "      <td>Yes</td>\n",
       "      <td>Yes</td>\n",
       "      <td>No</td>\n",
       "      <td>Yes</td>\n",
       "      <td>65.60</td>\n",
       "      <td>593.3</td>\n",
       "      <td>No</td>\n",
       "      <td>One year</td>\n",
       "      <td>DSL</td>\n",
       "      <td>Mailed check</td>\n",
       "    </tr>\n",
       "    <tr>\n",
       "      <th>1</th>\n",
       "      <td>1</td>\n",
       "      <td>2</td>\n",
       "      <td>1</td>\n",
       "      <td>1</td>\n",
       "      <td>0003-MKNFE</td>\n",
       "      <td>Male</td>\n",
       "      <td>0</td>\n",
       "      <td>No</td>\n",
       "      <td>No</td>\n",
       "      <td>9</td>\n",
       "      <td>...</td>\n",
       "      <td>No</td>\n",
       "      <td>No</td>\n",
       "      <td>Yes</td>\n",
       "      <td>No</td>\n",
       "      <td>59.90</td>\n",
       "      <td>542.4</td>\n",
       "      <td>No</td>\n",
       "      <td>Month-to-month</td>\n",
       "      <td>DSL</td>\n",
       "      <td>Mailed check</td>\n",
       "    </tr>\n",
       "    <tr>\n",
       "      <th>2</th>\n",
       "      <td>2</td>\n",
       "      <td>1</td>\n",
       "      <td>2</td>\n",
       "      <td>1</td>\n",
       "      <td>0004-TLHLJ</td>\n",
       "      <td>Male</td>\n",
       "      <td>0</td>\n",
       "      <td>No</td>\n",
       "      <td>No</td>\n",
       "      <td>4</td>\n",
       "      <td>...</td>\n",
       "      <td>No</td>\n",
       "      <td>No</td>\n",
       "      <td>No</td>\n",
       "      <td>Yes</td>\n",
       "      <td>73.90</td>\n",
       "      <td>280.85</td>\n",
       "      <td>Yes</td>\n",
       "      <td>Month-to-month</td>\n",
       "      <td>Fiber optic</td>\n",
       "      <td>Electronic check</td>\n",
       "    </tr>\n",
       "    <tr>\n",
       "      <th>3</th>\n",
       "      <td>3</td>\n",
       "      <td>1</td>\n",
       "      <td>2</td>\n",
       "      <td>1</td>\n",
       "      <td>0011-IGKFF</td>\n",
       "      <td>Male</td>\n",
       "      <td>1</td>\n",
       "      <td>Yes</td>\n",
       "      <td>No</td>\n",
       "      <td>13</td>\n",
       "      <td>...</td>\n",
       "      <td>No</td>\n",
       "      <td>Yes</td>\n",
       "      <td>Yes</td>\n",
       "      <td>Yes</td>\n",
       "      <td>98.00</td>\n",
       "      <td>1237.85</td>\n",
       "      <td>Yes</td>\n",
       "      <td>Month-to-month</td>\n",
       "      <td>Fiber optic</td>\n",
       "      <td>Electronic check</td>\n",
       "    </tr>\n",
       "    <tr>\n",
       "      <th>4</th>\n",
       "      <td>4</td>\n",
       "      <td>2</td>\n",
       "      <td>2</td>\n",
       "      <td>1</td>\n",
       "      <td>0013-EXCHZ</td>\n",
       "      <td>Female</td>\n",
       "      <td>1</td>\n",
       "      <td>Yes</td>\n",
       "      <td>No</td>\n",
       "      <td>3</td>\n",
       "      <td>...</td>\n",
       "      <td>Yes</td>\n",
       "      <td>Yes</td>\n",
       "      <td>No</td>\n",
       "      <td>Yes</td>\n",
       "      <td>83.90</td>\n",
       "      <td>267.4</td>\n",
       "      <td>Yes</td>\n",
       "      <td>Month-to-month</td>\n",
       "      <td>Fiber optic</td>\n",
       "      <td>Mailed check</td>\n",
       "    </tr>\n",
       "    <tr>\n",
       "      <th>...</th>\n",
       "      <td>...</td>\n",
       "      <td>...</td>\n",
       "      <td>...</td>\n",
       "      <td>...</td>\n",
       "      <td>...</td>\n",
       "      <td>...</td>\n",
       "      <td>...</td>\n",
       "      <td>...</td>\n",
       "      <td>...</td>\n",
       "      <td>...</td>\n",
       "      <td>...</td>\n",
       "      <td>...</td>\n",
       "      <td>...</td>\n",
       "      <td>...</td>\n",
       "      <td>...</td>\n",
       "      <td>...</td>\n",
       "      <td>...</td>\n",
       "      <td>...</td>\n",
       "      <td>...</td>\n",
       "      <td>...</td>\n",
       "      <td>...</td>\n",
       "    </tr>\n",
       "    <tr>\n",
       "      <th>7038</th>\n",
       "      <td>7038</td>\n",
       "      <td>2</td>\n",
       "      <td>1</td>\n",
       "      <td>2</td>\n",
       "      <td>9987-LUTYD</td>\n",
       "      <td>Female</td>\n",
       "      <td>0</td>\n",
       "      <td>No</td>\n",
       "      <td>No</td>\n",
       "      <td>13</td>\n",
       "      <td>...</td>\n",
       "      <td>Yes</td>\n",
       "      <td>No</td>\n",
       "      <td>No</td>\n",
       "      <td>No</td>\n",
       "      <td>55.15</td>\n",
       "      <td>742.9</td>\n",
       "      <td>No</td>\n",
       "      <td>One year</td>\n",
       "      <td>DSL</td>\n",
       "      <td>Mailed check</td>\n",
       "    </tr>\n",
       "    <tr>\n",
       "      <th>7039</th>\n",
       "      <td>7039</td>\n",
       "      <td>1</td>\n",
       "      <td>2</td>\n",
       "      <td>1</td>\n",
       "      <td>9992-RRAMN</td>\n",
       "      <td>Male</td>\n",
       "      <td>0</td>\n",
       "      <td>Yes</td>\n",
       "      <td>No</td>\n",
       "      <td>22</td>\n",
       "      <td>...</td>\n",
       "      <td>No</td>\n",
       "      <td>No</td>\n",
       "      <td>Yes</td>\n",
       "      <td>Yes</td>\n",
       "      <td>85.10</td>\n",
       "      <td>1873.7</td>\n",
       "      <td>Yes</td>\n",
       "      <td>Month-to-month</td>\n",
       "      <td>Fiber optic</td>\n",
       "      <td>Electronic check</td>\n",
       "    </tr>\n",
       "    <tr>\n",
       "      <th>7040</th>\n",
       "      <td>7040</td>\n",
       "      <td>2</td>\n",
       "      <td>1</td>\n",
       "      <td>1</td>\n",
       "      <td>9992-UJOEL</td>\n",
       "      <td>Male</td>\n",
       "      <td>0</td>\n",
       "      <td>No</td>\n",
       "      <td>No</td>\n",
       "      <td>2</td>\n",
       "      <td>...</td>\n",
       "      <td>No</td>\n",
       "      <td>No</td>\n",
       "      <td>No</td>\n",
       "      <td>Yes</td>\n",
       "      <td>50.30</td>\n",
       "      <td>92.75</td>\n",
       "      <td>No</td>\n",
       "      <td>Month-to-month</td>\n",
       "      <td>DSL</td>\n",
       "      <td>Mailed check</td>\n",
       "    </tr>\n",
       "    <tr>\n",
       "      <th>7041</th>\n",
       "      <td>7041</td>\n",
       "      <td>2</td>\n",
       "      <td>1</td>\n",
       "      <td>3</td>\n",
       "      <td>9993-LHIEB</td>\n",
       "      <td>Male</td>\n",
       "      <td>0</td>\n",
       "      <td>Yes</td>\n",
       "      <td>Yes</td>\n",
       "      <td>67</td>\n",
       "      <td>...</td>\n",
       "      <td>Yes</td>\n",
       "      <td>No</td>\n",
       "      <td>Yes</td>\n",
       "      <td>No</td>\n",
       "      <td>67.85</td>\n",
       "      <td>4627.65</td>\n",
       "      <td>No</td>\n",
       "      <td>Two year</td>\n",
       "      <td>DSL</td>\n",
       "      <td>Mailed check</td>\n",
       "    </tr>\n",
       "    <tr>\n",
       "      <th>7042</th>\n",
       "      <td>7042</td>\n",
       "      <td>1</td>\n",
       "      <td>1</td>\n",
       "      <td>3</td>\n",
       "      <td>9995-HOTOH</td>\n",
       "      <td>Male</td>\n",
       "      <td>0</td>\n",
       "      <td>Yes</td>\n",
       "      <td>Yes</td>\n",
       "      <td>63</td>\n",
       "      <td>...</td>\n",
       "      <td>No</td>\n",
       "      <td>Yes</td>\n",
       "      <td>Yes</td>\n",
       "      <td>No</td>\n",
       "      <td>59.00</td>\n",
       "      <td>3707.6</td>\n",
       "      <td>No</td>\n",
       "      <td>Two year</td>\n",
       "      <td>DSL</td>\n",
       "      <td>Electronic check</td>\n",
       "    </tr>\n",
       "  </tbody>\n",
       "</table>\n",
       "<p>7043 rows × 25 columns</p>\n",
       "</div>"
      ],
      "text/plain": [
       "      Unnamed: 0  payment_type_id  internet_service_type_id  contract_type_id  \\\n",
       "0              0                2                         1                 2   \n",
       "1              1                2                         1                 1   \n",
       "2              2                1                         2                 1   \n",
       "3              3                1                         2                 1   \n",
       "4              4                2                         2                 1   \n",
       "...          ...              ...                       ...               ...   \n",
       "7038        7038                2                         1                 2   \n",
       "7039        7039                1                         2                 1   \n",
       "7040        7040                2                         1                 1   \n",
       "7041        7041                2                         1                 3   \n",
       "7042        7042                1                         1                 3   \n",
       "\n",
       "     customer_id  gender  senior_citizen partner dependents  tenure  ...  \\\n",
       "0     0002-ORFBO  Female               0     Yes        Yes       9  ...   \n",
       "1     0003-MKNFE    Male               0      No         No       9  ...   \n",
       "2     0004-TLHLJ    Male               0      No         No       4  ...   \n",
       "3     0011-IGKFF    Male               1     Yes         No      13  ...   \n",
       "4     0013-EXCHZ  Female               1     Yes         No       3  ...   \n",
       "...          ...     ...             ...     ...        ...     ...  ...   \n",
       "7038  9987-LUTYD  Female               0      No         No      13  ...   \n",
       "7039  9992-RRAMN    Male               0     Yes         No      22  ...   \n",
       "7040  9992-UJOEL    Male               0      No         No       2  ...   \n",
       "7041  9993-LHIEB    Male               0     Yes        Yes      67  ...   \n",
       "7042  9995-HOTOH    Male               0     Yes        Yes      63  ...   \n",
       "\n",
       "     tech_support streaming_tv streaming_movies paperless_billing  \\\n",
       "0             Yes          Yes               No               Yes   \n",
       "1              No           No              Yes                No   \n",
       "2              No           No               No               Yes   \n",
       "3              No          Yes              Yes               Yes   \n",
       "4             Yes          Yes               No               Yes   \n",
       "...           ...          ...              ...               ...   \n",
       "7038          Yes           No               No                No   \n",
       "7039           No           No              Yes               Yes   \n",
       "7040           No           No               No               Yes   \n",
       "7041          Yes           No              Yes                No   \n",
       "7042           No          Yes              Yes                No   \n",
       "\n",
       "     monthly_charges total_charges churn   contract_type  \\\n",
       "0              65.60         593.3    No        One year   \n",
       "1              59.90         542.4    No  Month-to-month   \n",
       "2              73.90        280.85   Yes  Month-to-month   \n",
       "3              98.00       1237.85   Yes  Month-to-month   \n",
       "4              83.90         267.4   Yes  Month-to-month   \n",
       "...              ...           ...   ...             ...   \n",
       "7038           55.15         742.9    No        One year   \n",
       "7039           85.10        1873.7   Yes  Month-to-month   \n",
       "7040           50.30         92.75    No  Month-to-month   \n",
       "7041           67.85       4627.65    No        Two year   \n",
       "7042           59.00        3707.6    No        Two year   \n",
       "\n",
       "     internet_service_type      payment_type  \n",
       "0                      DSL      Mailed check  \n",
       "1                      DSL      Mailed check  \n",
       "2              Fiber optic  Electronic check  \n",
       "3              Fiber optic  Electronic check  \n",
       "4              Fiber optic      Mailed check  \n",
       "...                    ...               ...  \n",
       "7038                   DSL      Mailed check  \n",
       "7039           Fiber optic  Electronic check  \n",
       "7040                   DSL      Mailed check  \n",
       "7041                   DSL      Mailed check  \n",
       "7042                   DSL  Electronic check  \n",
       "\n",
       "[7043 rows x 25 columns]"
      ]
     },
     "execution_count": 74,
     "metadata": {},
     "output_type": "execute_result"
    }
   ],
   "source": [
    "from acquire import get_telco_data\n",
    "get_telco_data()"
   ]
  },
  {
   "cell_type": "code",
   "execution_count": 358,
   "metadata": {},
   "outputs": [],
   "source": [
    "from prepare import prep_telco_data\n",
    "df = prep_telco_data()"
   ]
  },
  {
   "cell_type": "code",
   "execution_count": 359,
   "metadata": {},
   "outputs": [
    {
     "name": "stdout",
     "output_type": "stream",
     "text": [
      "<class 'pandas.core.frame.DataFrame'>\n",
      "Int64Index: 7032 entries, 0 to 7042\n",
      "Data columns (total 47 columns):\n",
      " #   Column                                 Non-Null Count  Dtype  \n",
      "---  ------                                 --------------  -----  \n",
      " 0   gender                                 7032 non-null   object \n",
      " 1   senior_citizen                         7032 non-null   int64  \n",
      " 2   partner                                7032 non-null   object \n",
      " 3   dependents                             7032 non-null   object \n",
      " 4   tenure                                 7032 non-null   int64  \n",
      " 5   phone_service                          7032 non-null   object \n",
      " 6   multiple_lines                         7032 non-null   object \n",
      " 7   online_security                        7032 non-null   object \n",
      " 8   online_backup                          7032 non-null   object \n",
      " 9   device_protection                      7032 non-null   object \n",
      " 10  tech_support                           7032 non-null   object \n",
      " 11  streaming_tv                           7032 non-null   object \n",
      " 12  streaming_movies                       7032 non-null   object \n",
      " 13  paperless_billing                      7032 non-null   object \n",
      " 14  monthly_charges                        7032 non-null   float64\n",
      " 15  total_charges                          7032 non-null   float64\n",
      " 16  churn                                  7032 non-null   object \n",
      " 17  contract_type                          7032 non-null   object \n",
      " 18  internet_service_type                  7032 non-null   object \n",
      " 19  payment_type                           7032 non-null   object \n",
      " 20  gender_encoded                         7032 non-null   int64  \n",
      " 21  partner_encoded                        7032 non-null   int64  \n",
      " 22  dependents_encoded                     7032 non-null   int64  \n",
      " 23  phone_service_encoded                  7032 non-null   int64  \n",
      " 24  paperless_billing_encoded              7032 non-null   int64  \n",
      " 25  churn_encoded                          7032 non-null   int64  \n",
      " 26  multiple_lines_No phone service        7032 non-null   uint8  \n",
      " 27  multiple_lines_Yes                     7032 non-null   uint8  \n",
      " 28  online_security_No internet service    7032 non-null   uint8  \n",
      " 29  online_security_Yes                    7032 non-null   uint8  \n",
      " 30  online_backup_No internet service      7032 non-null   uint8  \n",
      " 31  online_backup_Yes                      7032 non-null   uint8  \n",
      " 32  device_protection_No internet service  7032 non-null   uint8  \n",
      " 33  device_protection_Yes                  7032 non-null   uint8  \n",
      " 34  tech_support_No internet service       7032 non-null   uint8  \n",
      " 35  tech_support_Yes                       7032 non-null   uint8  \n",
      " 36  streaming_tv_No internet service       7032 non-null   uint8  \n",
      " 37  streaming_tv_Yes                       7032 non-null   uint8  \n",
      " 38  streaming_movies_No internet service   7032 non-null   uint8  \n",
      " 39  streaming_movies_Yes                   7032 non-null   uint8  \n",
      " 40  contract_type_One year                 7032 non-null   uint8  \n",
      " 41  contract_type_Two year                 7032 non-null   uint8  \n",
      " 42  internet_service_type_Fiber optic      7032 non-null   uint8  \n",
      " 43  internet_service_type_None             7032 non-null   uint8  \n",
      " 44  payment_type_Credit card (automatic)   7032 non-null   uint8  \n",
      " 45  payment_type_Electronic check          7032 non-null   uint8  \n",
      " 46  payment_type_Mailed check              7032 non-null   uint8  \n",
      "dtypes: float64(2), int64(8), object(16), uint8(21)\n",
      "memory usage: 1.6+ MB\n"
     ]
    }
   ],
   "source": [
    "df.info()"
   ]
  },
  {
   "cell_type": "code",
   "execution_count": 360,
   "metadata": {},
   "outputs": [
    {
     "data": {
      "text/html": [
       "<div>\n",
       "<style scoped>\n",
       "    .dataframe tbody tr th:only-of-type {\n",
       "        vertical-align: middle;\n",
       "    }\n",
       "\n",
       "    .dataframe tbody tr th {\n",
       "        vertical-align: top;\n",
       "    }\n",
       "\n",
       "    .dataframe thead th {\n",
       "        text-align: right;\n",
       "    }\n",
       "</style>\n",
       "<table border=\"1\" class=\"dataframe\">\n",
       "  <thead>\n",
       "    <tr style=\"text-align: right;\">\n",
       "      <th></th>\n",
       "      <th>senior_citizen</th>\n",
       "      <th>tenure</th>\n",
       "      <th>monthly_charges</th>\n",
       "      <th>total_charges</th>\n",
       "      <th>gender_encoded</th>\n",
       "      <th>partner_encoded</th>\n",
       "      <th>dependents_encoded</th>\n",
       "      <th>phone_service_encoded</th>\n",
       "      <th>paperless_billing_encoded</th>\n",
       "      <th>churn_encoded</th>\n",
       "      <th>...</th>\n",
       "      <th>streaming_tv_Yes</th>\n",
       "      <th>streaming_movies_No internet service</th>\n",
       "      <th>streaming_movies_Yes</th>\n",
       "      <th>contract_type_One year</th>\n",
       "      <th>contract_type_Two year</th>\n",
       "      <th>internet_service_type_Fiber optic</th>\n",
       "      <th>internet_service_type_None</th>\n",
       "      <th>payment_type_Credit card (automatic)</th>\n",
       "      <th>payment_type_Electronic check</th>\n",
       "      <th>payment_type_Mailed check</th>\n",
       "    </tr>\n",
       "  </thead>\n",
       "  <tbody>\n",
       "    <tr>\n",
       "      <th>0</th>\n",
       "      <td>0</td>\n",
       "      <td>9</td>\n",
       "      <td>65.6</td>\n",
       "      <td>593.30</td>\n",
       "      <td>1</td>\n",
       "      <td>1</td>\n",
       "      <td>1</td>\n",
       "      <td>1</td>\n",
       "      <td>1</td>\n",
       "      <td>0</td>\n",
       "      <td>...</td>\n",
       "      <td>1</td>\n",
       "      <td>0</td>\n",
       "      <td>0</td>\n",
       "      <td>1</td>\n",
       "      <td>0</td>\n",
       "      <td>0</td>\n",
       "      <td>0</td>\n",
       "      <td>0</td>\n",
       "      <td>0</td>\n",
       "      <td>1</td>\n",
       "    </tr>\n",
       "    <tr>\n",
       "      <th>1</th>\n",
       "      <td>0</td>\n",
       "      <td>9</td>\n",
       "      <td>59.9</td>\n",
       "      <td>542.40</td>\n",
       "      <td>0</td>\n",
       "      <td>0</td>\n",
       "      <td>0</td>\n",
       "      <td>1</td>\n",
       "      <td>0</td>\n",
       "      <td>0</td>\n",
       "      <td>...</td>\n",
       "      <td>0</td>\n",
       "      <td>0</td>\n",
       "      <td>1</td>\n",
       "      <td>0</td>\n",
       "      <td>0</td>\n",
       "      <td>0</td>\n",
       "      <td>0</td>\n",
       "      <td>0</td>\n",
       "      <td>0</td>\n",
       "      <td>1</td>\n",
       "    </tr>\n",
       "    <tr>\n",
       "      <th>2</th>\n",
       "      <td>0</td>\n",
       "      <td>4</td>\n",
       "      <td>73.9</td>\n",
       "      <td>280.85</td>\n",
       "      <td>0</td>\n",
       "      <td>0</td>\n",
       "      <td>0</td>\n",
       "      <td>1</td>\n",
       "      <td>1</td>\n",
       "      <td>1</td>\n",
       "      <td>...</td>\n",
       "      <td>0</td>\n",
       "      <td>0</td>\n",
       "      <td>0</td>\n",
       "      <td>0</td>\n",
       "      <td>0</td>\n",
       "      <td>1</td>\n",
       "      <td>0</td>\n",
       "      <td>0</td>\n",
       "      <td>1</td>\n",
       "      <td>0</td>\n",
       "    </tr>\n",
       "    <tr>\n",
       "      <th>3</th>\n",
       "      <td>1</td>\n",
       "      <td>13</td>\n",
       "      <td>98.0</td>\n",
       "      <td>1237.85</td>\n",
       "      <td>0</td>\n",
       "      <td>1</td>\n",
       "      <td>0</td>\n",
       "      <td>1</td>\n",
       "      <td>1</td>\n",
       "      <td>1</td>\n",
       "      <td>...</td>\n",
       "      <td>1</td>\n",
       "      <td>0</td>\n",
       "      <td>1</td>\n",
       "      <td>0</td>\n",
       "      <td>0</td>\n",
       "      <td>1</td>\n",
       "      <td>0</td>\n",
       "      <td>0</td>\n",
       "      <td>1</td>\n",
       "      <td>0</td>\n",
       "    </tr>\n",
       "    <tr>\n",
       "      <th>4</th>\n",
       "      <td>1</td>\n",
       "      <td>3</td>\n",
       "      <td>83.9</td>\n",
       "      <td>267.40</td>\n",
       "      <td>1</td>\n",
       "      <td>1</td>\n",
       "      <td>0</td>\n",
       "      <td>1</td>\n",
       "      <td>1</td>\n",
       "      <td>1</td>\n",
       "      <td>...</td>\n",
       "      <td>1</td>\n",
       "      <td>0</td>\n",
       "      <td>0</td>\n",
       "      <td>0</td>\n",
       "      <td>0</td>\n",
       "      <td>1</td>\n",
       "      <td>0</td>\n",
       "      <td>0</td>\n",
       "      <td>0</td>\n",
       "      <td>1</td>\n",
       "    </tr>\n",
       "  </tbody>\n",
       "</table>\n",
       "<p>5 rows × 31 columns</p>\n",
       "</div>"
      ],
      "text/plain": [
       "   senior_citizen  tenure  monthly_charges  total_charges  gender_encoded  \\\n",
       "0               0       9             65.6         593.30               1   \n",
       "1               0       9             59.9         542.40               0   \n",
       "2               0       4             73.9         280.85               0   \n",
       "3               1      13             98.0        1237.85               0   \n",
       "4               1       3             83.9         267.40               1   \n",
       "\n",
       "   partner_encoded  dependents_encoded  phone_service_encoded  \\\n",
       "0                1                   1                      1   \n",
       "1                0                   0                      1   \n",
       "2                0                   0                      1   \n",
       "3                1                   0                      1   \n",
       "4                1                   0                      1   \n",
       "\n",
       "   paperless_billing_encoded  churn_encoded  ...  streaming_tv_Yes  \\\n",
       "0                          1              0  ...                 1   \n",
       "1                          0              0  ...                 0   \n",
       "2                          1              1  ...                 0   \n",
       "3                          1              1  ...                 1   \n",
       "4                          1              1  ...                 1   \n",
       "\n",
       "   streaming_movies_No internet service  streaming_movies_Yes  \\\n",
       "0                                     0                     0   \n",
       "1                                     0                     1   \n",
       "2                                     0                     0   \n",
       "3                                     0                     1   \n",
       "4                                     0                     0   \n",
       "\n",
       "   contract_type_One year  contract_type_Two year  \\\n",
       "0                       1                       0   \n",
       "1                       0                       0   \n",
       "2                       0                       0   \n",
       "3                       0                       0   \n",
       "4                       0                       0   \n",
       "\n",
       "   internet_service_type_Fiber optic  internet_service_type_None  \\\n",
       "0                                  0                           0   \n",
       "1                                  0                           0   \n",
       "2                                  1                           0   \n",
       "3                                  1                           0   \n",
       "4                                  1                           0   \n",
       "\n",
       "   payment_type_Credit card (automatic)  payment_type_Electronic check  \\\n",
       "0                                     0                              0   \n",
       "1                                     0                              0   \n",
       "2                                     0                              1   \n",
       "3                                     0                              1   \n",
       "4                                     0                              0   \n",
       "\n",
       "   payment_type_Mailed check  \n",
       "0                          1  \n",
       "1                          1  \n",
       "2                          0  \n",
       "3                          0  \n",
       "4                          1  \n",
       "\n",
       "[5 rows x 31 columns]"
      ]
     },
     "execution_count": 360,
     "metadata": {},
     "output_type": "execute_result"
    }
   ],
   "source": [
    "df = df.drop(columns=['churn', 'gender', 'partner', 'dependents', 'phone_service', 'paperless_billing', 'multiple_lines', 'online_security', 'online_backup', 'device_protection', 'tech_support', 'streaming_tv', 'streaming_movies', 'contract_type', 'internet_service_type', 'payment_type'])\n",
    "df.head()"
   ]
  },
  {
   "cell_type": "code",
   "execution_count": 362,
   "metadata": {},
   "outputs": [
    {
     "data": {
      "text/plain": [
       "0    0\n",
       "Name: churn_encoded, dtype: int64"
      ]
     },
     "execution_count": 362,
     "metadata": {},
     "output_type": "execute_result"
    }
   ],
   "source": [
    "df.churn_encoded.mode()"
   ]
  },
  {
   "cell_type": "code",
   "execution_count": 363,
   "metadata": {},
   "outputs": [],
   "source": [
    "train, test = train_test_split(df, test_size=.2, random_state=123, stratify=df.churn_encoded)\n",
    "train, validate = train_test_split(train, test_size=.3, random_state=123, stratify=train.churn_encoded)"
   ]
  },
  {
   "cell_type": "code",
   "execution_count": 364,
   "metadata": {},
   "outputs": [],
   "source": [
    "X_train = train.drop(columns=[\"churn_encoded\"])\n",
    "y_train = train.churn_encoded\n",
    "\n",
    "X_validate = validate.drop(columns=[\"churn_encoded\"])\n",
    "y_validate = validate.churn_encoded\n",
    "\n",
    "X_test = test.drop(columns=[\"churn_encoded\"])\n",
    "y_test = test.churn_encoded"
   ]
  },
  {
   "cell_type": "code",
   "execution_count": 144,
   "metadata": {},
   "outputs": [
    {
     "data": {
      "text/plain": [
       "0    2891\n",
       "1    1046\n",
       "Name: churn_encoded, dtype: int64"
      ]
     },
     "execution_count": 144,
     "metadata": {},
     "output_type": "execute_result"
    }
   ],
   "source": [
    "train.churn_encoded.value_counts()"
   ]
  },
  {
   "cell_type": "code",
   "execution_count": 365,
   "metadata": {},
   "outputs": [],
   "source": [
    "baseline = y_train.mode()"
   ]
  },
  {
   "cell_type": "code",
   "execution_count": 366,
   "metadata": {},
   "outputs": [],
   "source": [
    "matches_baseline_prediction = (y_train == 0)"
   ]
  },
  {
   "cell_type": "code",
   "execution_count": 367,
   "metadata": {},
   "outputs": [
    {
     "name": "stdout",
     "output_type": "stream",
     "text": [
      "Baseline accuracy: 0.73\n"
     ]
    }
   ],
   "source": [
    "baseline_accuracy = matches_baseline_prediction.mean()\n",
    "print(f\"Baseline accuracy: {round(baseline_accuracy, 2)}\")"
   ]
  },
  {
   "cell_type": "code",
   "execution_count": 155,
   "metadata": {},
   "outputs": [],
   "source": [
    "# Make the model\n",
    "tree1 = DecisionTreeClassifier(max_depth=1, random_state=123)\n",
    "\n",
    "# Fit the model (on train and only train)\n",
    "tree1 = tree1.fit(X_train, y_train)\n",
    "\n",
    "# Use the model\n",
    "# We'll evaluate the model's performance on train, first\n",
    "y_predictions = tree1.predict(X_train)"
   ]
  },
  {
   "cell_type": "code",
   "execution_count": 156,
   "metadata": {},
   "outputs": [
    {
     "name": "stdout",
     "output_type": "stream",
     "text": [
      "Accuracy of Decision Tree classifier on training set: 0.73\n"
     ]
    }
   ],
   "source": [
    "print('Accuracy of Decision Tree classifier on training set: {:.2f}'\n",
    "      .format(tree1.score(X_train, y_train)))"
   ]
  },
  {
   "cell_type": "code",
   "execution_count": 157,
   "metadata": {},
   "outputs": [
    {
     "data": {
      "text/html": [
       "<div>\n",
       "<style scoped>\n",
       "    .dataframe tbody tr th:only-of-type {\n",
       "        vertical-align: middle;\n",
       "    }\n",
       "\n",
       "    .dataframe tbody tr th {\n",
       "        vertical-align: top;\n",
       "    }\n",
       "\n",
       "    .dataframe thead th {\n",
       "        text-align: right;\n",
       "    }\n",
       "</style>\n",
       "<table border=\"1\" class=\"dataframe\">\n",
       "  <thead>\n",
       "    <tr style=\"text-align: right;\">\n",
       "      <th></th>\n",
       "      <th>0</th>\n",
       "      <th>1</th>\n",
       "    </tr>\n",
       "  </thead>\n",
       "  <tbody>\n",
       "    <tr>\n",
       "      <th>0</th>\n",
       "      <td>2891</td>\n",
       "      <td>0</td>\n",
       "    </tr>\n",
       "    <tr>\n",
       "      <th>1</th>\n",
       "      <td>1046</td>\n",
       "      <td>0</td>\n",
       "    </tr>\n",
       "  </tbody>\n",
       "</table>\n",
       "</div>"
      ],
      "text/plain": [
       "      0  1\n",
       "0  2891  0\n",
       "1  1046  0"
      ]
     },
     "execution_count": 157,
     "metadata": {},
     "output_type": "execute_result"
    }
   ],
   "source": [
    "pd.DataFrame(confusion_matrix(y_train, y_predictions))"
   ]
  },
  {
   "cell_type": "code",
   "execution_count": 158,
   "metadata": {},
   "outputs": [
    {
     "data": {
      "text/html": [
       "<div>\n",
       "<style scoped>\n",
       "    .dataframe tbody tr th:only-of-type {\n",
       "        vertical-align: middle;\n",
       "    }\n",
       "\n",
       "    .dataframe tbody tr th {\n",
       "        vertical-align: top;\n",
       "    }\n",
       "\n",
       "    .dataframe thead th {\n",
       "        text-align: right;\n",
       "    }\n",
       "</style>\n",
       "<table border=\"1\" class=\"dataframe\">\n",
       "  <thead>\n",
       "    <tr style=\"text-align: right;\">\n",
       "      <th>col_0</th>\n",
       "      <th>0</th>\n",
       "    </tr>\n",
       "    <tr>\n",
       "      <th>churn_encoded</th>\n",
       "      <th></th>\n",
       "    </tr>\n",
       "  </thead>\n",
       "  <tbody>\n",
       "    <tr>\n",
       "      <th>0</th>\n",
       "      <td>2891</td>\n",
       "    </tr>\n",
       "    <tr>\n",
       "      <th>1</th>\n",
       "      <td>1046</td>\n",
       "    </tr>\n",
       "  </tbody>\n",
       "</table>\n",
       "</div>"
      ],
      "text/plain": [
       "col_0             0\n",
       "churn_encoded      \n",
       "0              2891\n",
       "1              1046"
      ]
     },
     "execution_count": 158,
     "metadata": {},
     "output_type": "execute_result"
    }
   ],
   "source": [
    "pd.crosstab(y_train, y_predictions)"
   ]
  },
  {
   "cell_type": "code",
   "execution_count": 159,
   "metadata": {},
   "outputs": [
    {
     "name": "stdout",
     "output_type": "stream",
     "text": [
      "              precision    recall  f1-score   support\n",
      "\n",
      "           0       0.73      1.00      0.85      2891\n",
      "           1       0.00      0.00      0.00      1046\n",
      "\n",
      "    accuracy                           0.73      3937\n",
      "   macro avg       0.37      0.50      0.42      3937\n",
      "weighted avg       0.54      0.73      0.62      3937\n",
      "\n"
     ]
    }
   ],
   "source": [
    "print(classification_report(y_train, y_predictions))"
   ]
  },
  {
   "cell_type": "code",
   "execution_count": 153,
   "metadata": {},
   "outputs": [
    {
     "name": "stdout",
     "output_type": "stream",
     "text": [
      "Tree of 1 depth\n"
     ]
    },
    {
     "data": {
      "text/html": [
       "<div>\n",
       "<style scoped>\n",
       "    .dataframe tbody tr th:only-of-type {\n",
       "        vertical-align: middle;\n",
       "    }\n",
       "\n",
       "    .dataframe tbody tr th {\n",
       "        vertical-align: top;\n",
       "    }\n",
       "\n",
       "    .dataframe thead th {\n",
       "        text-align: right;\n",
       "    }\n",
       "</style>\n",
       "<table border=\"1\" class=\"dataframe\">\n",
       "  <thead>\n",
       "    <tr style=\"text-align: right;\">\n",
       "      <th></th>\n",
       "      <th>0</th>\n",
       "      <th>1</th>\n",
       "      <th>accuracy</th>\n",
       "      <th>macro avg</th>\n",
       "      <th>weighted avg</th>\n",
       "    </tr>\n",
       "  </thead>\n",
       "  <tbody>\n",
       "    <tr>\n",
       "      <th>precision</th>\n",
       "      <td>0.734315</td>\n",
       "      <td>0.0</td>\n",
       "      <td>0.734315</td>\n",
       "      <td>0.367158</td>\n",
       "      <td>0.539219</td>\n",
       "    </tr>\n",
       "    <tr>\n",
       "      <th>recall</th>\n",
       "      <td>1.000000</td>\n",
       "      <td>0.0</td>\n",
       "      <td>0.734315</td>\n",
       "      <td>0.500000</td>\n",
       "      <td>0.734315</td>\n",
       "    </tr>\n",
       "    <tr>\n",
       "      <th>f1-score</th>\n",
       "      <td>0.846807</td>\n",
       "      <td>0.0</td>\n",
       "      <td>0.734315</td>\n",
       "      <td>0.423404</td>\n",
       "      <td>0.621824</td>\n",
       "    </tr>\n",
       "    <tr>\n",
       "      <th>support</th>\n",
       "      <td>2891.000000</td>\n",
       "      <td>1046.0</td>\n",
       "      <td>0.734315</td>\n",
       "      <td>3937.000000</td>\n",
       "      <td>3937.000000</td>\n",
       "    </tr>\n",
       "  </tbody>\n",
       "</table>\n",
       "</div>"
      ],
      "text/plain": [
       "                     0       1  accuracy    macro avg  weighted avg\n",
       "precision     0.734315     0.0  0.734315     0.367158      0.539219\n",
       "recall        1.000000     0.0  0.734315     0.500000      0.734315\n",
       "f1-score      0.846807     0.0  0.734315     0.423404      0.621824\n",
       "support    2891.000000  1046.0  0.734315  3937.000000   3937.000000"
      ]
     },
     "execution_count": 153,
     "metadata": {},
     "output_type": "execute_result"
    }
   ],
   "source": [
    "report = classification_report(y_train, y_predictions, output_dict=True)\n",
    "print(\"Tree of 1 depth\")\n",
    "pd.DataFrame(report)"
   ]
  },
  {
   "cell_type": "code",
   "execution_count": 160,
   "metadata": {},
   "outputs": [
    {
     "name": "stdout",
     "output_type": "stream",
     "text": [
      "Tree with max depth of 2\n",
      "                     0            1  accuracy    macro avg  weighted avg\n",
      "precision     0.808605     0.707231  0.794006     0.757918      0.781672\n",
      "recall        0.942580     0.383365  0.794006     0.662973      0.794006\n",
      "f1-score      0.870468     0.497210  0.794006     0.683839      0.771299\n",
      "support    2891.000000  1046.000000  0.794006  3937.000000   3937.000000\n",
      "\n",
      "Tree with max depth of 3\n",
      "                     0            1  accuracy    macro avg  weighted avg\n",
      "precision     0.808605     0.707231  0.794006     0.757918      0.781672\n",
      "recall        0.942580     0.383365  0.794006     0.662973      0.794006\n",
      "f1-score      0.870468     0.497210  0.794006     0.683839      0.771299\n",
      "support    2891.000000  1046.000000  0.794006  3937.000000   3937.000000\n",
      "\n",
      "Tree with max depth of 4\n",
      "                     0            1  accuracy    macro avg  weighted avg\n",
      "precision     0.824399     0.688857   0.80061     0.756628      0.788388\n",
      "recall        0.925631     0.455067   0.80061     0.690349      0.800610\n",
      "f1-score      0.872087     0.548071   0.80061     0.710079      0.786001\n",
      "support    2891.000000  1046.000000   0.80061  3937.000000   3937.000000\n",
      "\n",
      "Tree with max depth of 5\n",
      "                     0            1  accuracy    macro avg  weighted avg\n",
      "precision     0.827745     0.708455   0.80696     0.768100      0.796052\n",
      "recall        0.930820     0.464627   0.80696     0.697723      0.806960\n",
      "f1-score      0.876262     0.561201   0.80696     0.718731      0.792555\n",
      "support    2891.000000  1046.000000   0.80696  3937.000000   3937.000000\n",
      "\n",
      "Tree with max depth of 6\n",
      "                     0            1  accuracy    macro avg  weighted avg\n",
      "precision     0.852827     0.690338  0.817374     0.771582      0.809656\n",
      "recall        0.907990     0.566922  0.817374     0.737456      0.817374\n",
      "f1-score      0.879544     0.622572  0.817374     0.751058      0.811271\n",
      "support    2891.000000  1046.000000  0.817374  3937.000000   3937.000000\n",
      "\n",
      "Tree with max depth of 7\n",
      "                     0            1  accuracy    macro avg  weighted avg\n",
      "precision     0.880765     0.690099  0.831852     0.785432      0.830108\n",
      "recall        0.891733     0.666348  0.831852     0.779040      0.831852\n",
      "f1-score      0.886215     0.678016  0.831852     0.782115      0.830900\n",
      "support    2891.000000  1046.000000  0.831852  3937.000000   3937.000000\n",
      "\n",
      "Tree with max depth of 8\n",
      "                     0            1  accuracy    macro avg  weighted avg\n",
      "precision     0.883525     0.718974  0.842774     0.801250      0.839806\n",
      "recall        0.905223     0.670172  0.842774     0.787698      0.842774\n",
      "f1-score      0.894242     0.693716  0.842774     0.793979      0.840966\n",
      "support    2891.000000  1046.000000  0.842774  3937.000000   3937.000000\n",
      "\n",
      "Tree with max depth of 9\n",
      "                     0            1  accuracy    macro avg  weighted avg\n",
      "precision     0.893904     0.755165  0.859792     0.824534      0.857043\n",
      "recall        0.918021     0.698853  0.859792     0.808437      0.859792\n",
      "f1-score      0.905802     0.725919  0.859792     0.815860      0.858010\n",
      "support    2891.000000  1046.000000  0.859792  3937.000000   3937.000000\n",
      "\n",
      "Tree with max depth of 10\n",
      "                     0            1  accuracy    macro avg  weighted avg\n",
      "precision     0.913222     0.784158  0.880112     0.848690      0.878932\n",
      "recall        0.924594     0.757170  0.880112     0.840882      0.880112\n",
      "f1-score      0.918872     0.770428  0.880112     0.844650      0.879433\n",
      "support    2891.000000  1046.000000  0.880112  3937.000000   3937.000000\n",
      "\n",
      "Tree with max depth of 11\n",
      "                     0            1  accuracy    macro avg  weighted avg\n",
      "precision     0.908020     0.867347  0.898908     0.887683      0.897214\n",
      "recall        0.959530     0.731358  0.898908     0.845444      0.898908\n",
      "f1-score      0.933064     0.793568  0.898908     0.863316      0.896002\n",
      "support    2891.000000  1046.000000  0.898908  3937.000000   3937.000000\n",
      "\n",
      "Tree with max depth of 12\n",
      "                     0            1  accuracy    macro avg  weighted avg\n",
      "precision     0.945229     0.857834  0.922276     0.901531      0.922009\n",
      "recall        0.949153     0.847992  0.922276     0.898572      0.922276\n",
      "f1-score      0.947187     0.852885  0.922276     0.900036      0.922132\n",
      "support    2891.000000  1046.000000  0.922276  3937.000000   3937.000000\n",
      "\n",
      "Tree with max depth of 13\n",
      "                     0            1  accuracy    macro avg  weighted avg\n",
      "precision     0.958564     0.889529   0.94031     0.924046      0.940222\n",
      "recall        0.960221     0.885277   0.94031     0.922749      0.940310\n",
      "f1-score      0.959392     0.887398   0.94031     0.923395      0.940264\n",
      "support    2891.000000  1046.000000   0.94031  3937.000000   3937.000000\n",
      "\n",
      "Tree with max depth of 14\n",
      "                     0            1  accuracy    macro avg  weighted avg\n",
      "precision     0.971767     0.903558  0.953264     0.937663      0.953645\n",
      "recall        0.964372     0.922562  0.953264     0.943467      0.953264\n",
      "f1-score      0.968056     0.912961  0.953264     0.940508      0.953418\n",
      "support    2891.000000  1046.000000  0.953264  3937.000000   3937.000000\n",
      "\n",
      "Tree with max depth of 15\n",
      "                     0            1  accuracy    macro avg  weighted avg\n",
      "precision     0.976487     0.935885   0.96571     0.956186      0.965700\n",
      "recall        0.976825     0.934990   0.96571     0.955908      0.965710\n",
      "f1-score      0.976656     0.935438   0.96571     0.956047      0.965705\n",
      "support    2891.000000  1046.000000   0.96571  3937.000000   3937.000000\n",
      "\n",
      "Tree with max depth of 16\n",
      "                     0            1  accuracy    macro avg  weighted avg\n",
      "precision     0.986746     0.942056    0.9746     0.964401      0.974872\n",
      "recall        0.978554     0.963671    0.9746     0.971113      0.974600\n",
      "f1-score      0.982633     0.952741    0.9746     0.967687      0.974691\n",
      "support    2891.000000  1046.000000    0.9746  3937.000000   3937.000000\n",
      "\n",
      "Tree with max depth of 17\n",
      "                     0            1  accuracy    macro avg  weighted avg\n",
      "precision     0.985522     0.969112  0.981204     0.977317      0.981162\n",
      "recall        0.988931     0.959847  0.981204     0.974389      0.981204\n",
      "f1-score      0.987224     0.964457  0.981204     0.975841      0.981175\n",
      "support    2891.000000  1046.000000  0.981204  3937.000000   3937.000000\n",
      "\n",
      "Tree with max depth of 18\n",
      "                     0            1  accuracy    macro avg  weighted avg\n",
      "precision     0.987654     0.989226  0.988062     0.988440      0.988072\n",
      "recall        0.996195     0.965583  0.988062     0.980889      0.988062\n",
      "f1-score      0.991906     0.977262  0.988062     0.984584      0.988015\n",
      "support    2891.000000  1046.000000  0.988062  3937.000000   3937.000000\n",
      "\n",
      "Tree with max depth of 19\n",
      "                     0            1  accuracy    macro avg  weighted avg\n",
      "precision     0.995495     0.982873  0.992126     0.989184      0.992142\n",
      "recall        0.993774     0.987572  0.992126     0.990673      0.992126\n",
      "f1-score      0.994634     0.985217  0.992126     0.989925      0.992132\n",
      "support    2891.000000  1046.000000  0.992126  3937.000000   3937.000000\n",
      "\n",
      "Tree with max depth of 20\n",
      "                     0            1  accuracy    macro avg  weighted avg\n",
      "precision     0.990744     0.999020  0.992888     0.994882      0.992943\n",
      "recall        0.999654     0.974187  0.992888     0.986921      0.992888\n",
      "f1-score      0.995179     0.986447  0.992888     0.990813      0.992859\n",
      "support    2891.000000  1046.000000  0.992888  3937.000000   3937.000000\n",
      "\n"
     ]
    }
   ],
   "source": [
    "for i in range(2, 21):\n",
    "    # Make the model\n",
    "    tree = DecisionTreeClassifier(max_depth=i, random_state=123)\n",
    "\n",
    "    # Fit the model (on train and only train)\n",
    "    tree = tree.fit(X_train, y_train)\n",
    "\n",
    "    # Use the model\n",
    "    # We'll evaluate the model's performance on train, first\n",
    "    y_predictions = tree.predict(X_train)\n",
    "\n",
    "    # Produce the classification report on the actual y values and this model's predicted y values\n",
    "    report = classification_report(y_train, y_predictions, output_dict=True)\n",
    "    print(f\"Tree with max depth of {i}\")\n",
    "    print(pd.DataFrame(report))\n",
    "    print()"
   ]
  },
  {
   "cell_type": "code",
   "execution_count": 161,
   "metadata": {},
   "outputs": [
    {
     "data": {
      "text/html": [
       "<div>\n",
       "<style scoped>\n",
       "    .dataframe tbody tr th:only-of-type {\n",
       "        vertical-align: middle;\n",
       "    }\n",
       "\n",
       "    .dataframe tbody tr th {\n",
       "        vertical-align: top;\n",
       "    }\n",
       "\n",
       "    .dataframe thead th {\n",
       "        text-align: right;\n",
       "    }\n",
       "</style>\n",
       "<table border=\"1\" class=\"dataframe\">\n",
       "  <thead>\n",
       "    <tr style=\"text-align: right;\">\n",
       "      <th></th>\n",
       "      <th>max_depth</th>\n",
       "      <th>train_accuracy</th>\n",
       "      <th>validate_accuracy</th>\n",
       "      <th>difference</th>\n",
       "    </tr>\n",
       "  </thead>\n",
       "  <tbody>\n",
       "    <tr>\n",
       "      <th>0</th>\n",
       "      <td>2</td>\n",
       "      <td>0.794006</td>\n",
       "      <td>0.776066</td>\n",
       "      <td>0.017939</td>\n",
       "    </tr>\n",
       "    <tr>\n",
       "      <th>1</th>\n",
       "      <td>3</td>\n",
       "      <td>0.794006</td>\n",
       "      <td>0.776066</td>\n",
       "      <td>0.017939</td>\n",
       "    </tr>\n",
       "    <tr>\n",
       "      <th>2</th>\n",
       "      <td>4</td>\n",
       "      <td>0.800610</td>\n",
       "      <td>0.777844</td>\n",
       "      <td>0.022766</td>\n",
       "    </tr>\n",
       "    <tr>\n",
       "      <th>3</th>\n",
       "      <td>5</td>\n",
       "      <td>0.806960</td>\n",
       "      <td>0.776066</td>\n",
       "      <td>0.030893</td>\n",
       "    </tr>\n",
       "    <tr>\n",
       "      <th>4</th>\n",
       "      <td>6</td>\n",
       "      <td>0.817374</td>\n",
       "      <td>0.779028</td>\n",
       "      <td>0.038345</td>\n",
       "    </tr>\n",
       "    <tr>\n",
       "      <th>5</th>\n",
       "      <td>7</td>\n",
       "      <td>0.831852</td>\n",
       "      <td>0.763626</td>\n",
       "      <td>0.068226</td>\n",
       "    </tr>\n",
       "    <tr>\n",
       "      <th>6</th>\n",
       "      <td>8</td>\n",
       "      <td>0.842774</td>\n",
       "      <td>0.763626</td>\n",
       "      <td>0.079148</td>\n",
       "    </tr>\n",
       "    <tr>\n",
       "      <th>7</th>\n",
       "      <td>9</td>\n",
       "      <td>0.859792</td>\n",
       "      <td>0.760071</td>\n",
       "      <td>0.099721</td>\n",
       "    </tr>\n",
       "    <tr>\n",
       "      <th>8</th>\n",
       "      <td>10</td>\n",
       "      <td>0.880112</td>\n",
       "      <td>0.751777</td>\n",
       "      <td>0.128335</td>\n",
       "    </tr>\n",
       "    <tr>\n",
       "      <th>9</th>\n",
       "      <td>11</td>\n",
       "      <td>0.898908</td>\n",
       "      <td>0.740521</td>\n",
       "      <td>0.158386</td>\n",
       "    </tr>\n",
       "    <tr>\n",
       "      <th>10</th>\n",
       "      <td>12</td>\n",
       "      <td>0.922276</td>\n",
       "      <td>0.734597</td>\n",
       "      <td>0.187679</td>\n",
       "    </tr>\n",
       "    <tr>\n",
       "      <th>11</th>\n",
       "      <td>13</td>\n",
       "      <td>0.940310</td>\n",
       "      <td>0.722749</td>\n",
       "      <td>0.217561</td>\n",
       "    </tr>\n",
       "    <tr>\n",
       "      <th>12</th>\n",
       "      <td>14</td>\n",
       "      <td>0.953264</td>\n",
       "      <td>0.713863</td>\n",
       "      <td>0.239401</td>\n",
       "    </tr>\n",
       "    <tr>\n",
       "      <th>13</th>\n",
       "      <td>15</td>\n",
       "      <td>0.965710</td>\n",
       "      <td>0.723341</td>\n",
       "      <td>0.242369</td>\n",
       "    </tr>\n",
       "    <tr>\n",
       "      <th>14</th>\n",
       "      <td>16</td>\n",
       "      <td>0.974600</td>\n",
       "      <td>0.714455</td>\n",
       "      <td>0.260145</td>\n",
       "    </tr>\n",
       "    <tr>\n",
       "      <th>15</th>\n",
       "      <td>17</td>\n",
       "      <td>0.981204</td>\n",
       "      <td>0.710308</td>\n",
       "      <td>0.270896</td>\n",
       "    </tr>\n",
       "    <tr>\n",
       "      <th>16</th>\n",
       "      <td>18</td>\n",
       "      <td>0.988062</td>\n",
       "      <td>0.713863</td>\n",
       "      <td>0.274199</td>\n",
       "    </tr>\n",
       "    <tr>\n",
       "      <th>17</th>\n",
       "      <td>19</td>\n",
       "      <td>0.992126</td>\n",
       "      <td>0.715047</td>\n",
       "      <td>0.277079</td>\n",
       "    </tr>\n",
       "    <tr>\n",
       "      <th>18</th>\n",
       "      <td>20</td>\n",
       "      <td>0.992888</td>\n",
       "      <td>0.716232</td>\n",
       "      <td>0.276656</td>\n",
       "    </tr>\n",
       "    <tr>\n",
       "      <th>19</th>\n",
       "      <td>21</td>\n",
       "      <td>0.995682</td>\n",
       "      <td>0.719787</td>\n",
       "      <td>0.275895</td>\n",
       "    </tr>\n",
       "    <tr>\n",
       "      <th>20</th>\n",
       "      <td>22</td>\n",
       "      <td>0.996444</td>\n",
       "      <td>0.706754</td>\n",
       "      <td>0.289690</td>\n",
       "    </tr>\n",
       "    <tr>\n",
       "      <th>21</th>\n",
       "      <td>23</td>\n",
       "      <td>0.996952</td>\n",
       "      <td>0.712085</td>\n",
       "      <td>0.284867</td>\n",
       "    </tr>\n",
       "    <tr>\n",
       "      <th>22</th>\n",
       "      <td>24</td>\n",
       "      <td>0.997714</td>\n",
       "      <td>0.718009</td>\n",
       "      <td>0.279705</td>\n",
       "    </tr>\n",
       "  </tbody>\n",
       "</table>\n",
       "</div>"
      ],
      "text/plain": [
       "    max_depth  train_accuracy  validate_accuracy  difference\n",
       "0           2        0.794006           0.776066    0.017939\n",
       "1           3        0.794006           0.776066    0.017939\n",
       "2           4        0.800610           0.777844    0.022766\n",
       "3           5        0.806960           0.776066    0.030893\n",
       "4           6        0.817374           0.779028    0.038345\n",
       "5           7        0.831852           0.763626    0.068226\n",
       "6           8        0.842774           0.763626    0.079148\n",
       "7           9        0.859792           0.760071    0.099721\n",
       "8          10        0.880112           0.751777    0.128335\n",
       "9          11        0.898908           0.740521    0.158386\n",
       "10         12        0.922276           0.734597    0.187679\n",
       "11         13        0.940310           0.722749    0.217561\n",
       "12         14        0.953264           0.713863    0.239401\n",
       "13         15        0.965710           0.723341    0.242369\n",
       "14         16        0.974600           0.714455    0.260145\n",
       "15         17        0.981204           0.710308    0.270896\n",
       "16         18        0.988062           0.713863    0.274199\n",
       "17         19        0.992126           0.715047    0.277079\n",
       "18         20        0.992888           0.716232    0.276656\n",
       "19         21        0.995682           0.719787    0.275895\n",
       "20         22        0.996444           0.706754    0.289690\n",
       "21         23        0.996952           0.712085    0.284867\n",
       "22         24        0.997714           0.718009    0.279705"
      ]
     },
     "execution_count": 161,
     "metadata": {},
     "output_type": "execute_result"
    }
   ],
   "source": [
    "metrics = []\n",
    "\n",
    "for i in range(2, 25):\n",
    "    # Make the model\n",
    "    tree = DecisionTreeClassifier(max_depth=i, random_state=123)\n",
    "\n",
    "    # Fit the model (on train and only train)\n",
    "    tree = tree.fit(X_train, y_train)\n",
    "\n",
    "    # Use the model\n",
    "    # We'll evaluate the model's performance on train, first\n",
    "    in_sample_accuracy = tree.score(X_train, y_train)\n",
    "    \n",
    "    out_of_sample_accuracy = tree.score(X_validate, y_validate)\n",
    "\n",
    "    output = {\n",
    "        \"max_depth\": i,\n",
    "        \"train_accuracy\": in_sample_accuracy,\n",
    "        \"validate_accuracy\": out_of_sample_accuracy\n",
    "    }\n",
    "    \n",
    "    metrics.append(output)\n",
    "    \n",
    "df = pd.DataFrame(metrics)\n",
    "df[\"difference\"] = df.train_accuracy - df.validate_accuracy\n",
    "df"
   ]
  },
  {
   "cell_type": "code",
   "execution_count": 163,
   "metadata": {},
   "outputs": [
    {
     "data": {
      "image/png": "[encoded data removed]",
      "text/plain": [
       "<Figure size 864x432 with 1 Axes>"
      ]
     },
     "metadata": {
      "needs_background": "light"
     },
     "output_type": "display_data"
    }
   ],
   "source": [
    "plt.figure(figsize=(12, 6))\n",
    "plt.plot(df.max_depth, df.train_accuracy, marker = 'o')\n",
    "plt.plot(df.max_depth, df.validate_accuracy, marker = 'o')\n",
    "plt.title('Overfitting Occurs at Higher Values for Max Depth')\n",
    "plt.xlabel('Max Depth')\n",
    "plt.ylabel('Accuracy')\n",
    "plt.show()"
   ]
  },
  {
   "cell_type": "code",
   "execution_count": 162,
   "metadata": {},
   "outputs": [
    {
     "data": {
      "text/html": [
       "<div>\n",
       "<style scoped>\n",
       "    .dataframe tbody tr th:only-of-type {\n",
       "        vertical-align: middle;\n",
       "    }\n",
       "\n",
       "    .dataframe tbody tr th {\n",
       "        vertical-align: top;\n",
       "    }\n",
       "\n",
       "    .dataframe thead th {\n",
       "        text-align: right;\n",
       "    }\n",
       "</style>\n",
       "<table border=\"1\" class=\"dataframe\">\n",
       "  <thead>\n",
       "    <tr style=\"text-align: right;\">\n",
       "      <th></th>\n",
       "      <th>max_depth</th>\n",
       "      <th>train_accuracy</th>\n",
       "      <th>validate_accuracy</th>\n",
       "      <th>difference</th>\n",
       "    </tr>\n",
       "  </thead>\n",
       "  <tbody>\n",
       "    <tr>\n",
       "      <th>4</th>\n",
       "      <td>6</td>\n",
       "      <td>0.817374</td>\n",
       "      <td>0.779028</td>\n",
       "      <td>0.038345</td>\n",
       "    </tr>\n",
       "    <tr>\n",
       "      <th>2</th>\n",
       "      <td>4</td>\n",
       "      <td>0.800610</td>\n",
       "      <td>0.777844</td>\n",
       "      <td>0.022766</td>\n",
       "    </tr>\n",
       "    <tr>\n",
       "      <th>0</th>\n",
       "      <td>2</td>\n",
       "      <td>0.794006</td>\n",
       "      <td>0.776066</td>\n",
       "      <td>0.017939</td>\n",
       "    </tr>\n",
       "    <tr>\n",
       "      <th>1</th>\n",
       "      <td>3</td>\n",
       "      <td>0.794006</td>\n",
       "      <td>0.776066</td>\n",
       "      <td>0.017939</td>\n",
       "    </tr>\n",
       "    <tr>\n",
       "      <th>3</th>\n",
       "      <td>5</td>\n",
       "      <td>0.806960</td>\n",
       "      <td>0.776066</td>\n",
       "      <td>0.030893</td>\n",
       "    </tr>\n",
       "    <tr>\n",
       "      <th>5</th>\n",
       "      <td>7</td>\n",
       "      <td>0.831852</td>\n",
       "      <td>0.763626</td>\n",
       "      <td>0.068226</td>\n",
       "    </tr>\n",
       "    <tr>\n",
       "      <th>6</th>\n",
       "      <td>8</td>\n",
       "      <td>0.842774</td>\n",
       "      <td>0.763626</td>\n",
       "      <td>0.079148</td>\n",
       "    </tr>\n",
       "    <tr>\n",
       "      <th>7</th>\n",
       "      <td>9</td>\n",
       "      <td>0.859792</td>\n",
       "      <td>0.760071</td>\n",
       "      <td>0.099721</td>\n",
       "    </tr>\n",
       "  </tbody>\n",
       "</table>\n",
       "</div>"
      ],
      "text/plain": [
       "   max_depth  train_accuracy  validate_accuracy  difference\n",
       "4          6        0.817374           0.779028    0.038345\n",
       "2          4        0.800610           0.777844    0.022766\n",
       "0          2        0.794006           0.776066    0.017939\n",
       "1          3        0.794006           0.776066    0.017939\n",
       "3          5        0.806960           0.776066    0.030893\n",
       "5          7        0.831852           0.763626    0.068226\n",
       "6          8        0.842774           0.763626    0.079148\n",
       "7          9        0.859792           0.760071    0.099721"
      ]
     },
     "execution_count": 162,
     "metadata": {},
     "output_type": "execute_result"
    }
   ],
   "source": [
    "df[df.difference <= 0.10].sort_values(by=['validate_accuracy', 'difference'], ascending = [False,True])"
   ]
  },
  {
   "cell_type": "code",
   "execution_count": 274,
   "metadata": {},
   "outputs": [],
   "source": [
    "from sklearn.ensemble import RandomForestClassifier\n",
    "\n",
    "rf = RandomForestClassifier(bootstrap=True, \n",
    "                            class_weight=None, \n",
    "                            criterion='gini',\n",
    "                            min_samples_leaf=6,\n",
    "                            n_estimators=100,\n",
    "                            max_depth=15, \n",
    "                            random_state=123)"
   ]
  },
  {
   "cell_type": "code",
   "execution_count": 275,
   "metadata": {},
   "outputs": [
    {
     "data": {
      "text/plain": [
       "RandomForestClassifier(max_depth=15, min_samples_leaf=6, random_state=123)"
      ]
     },
     "execution_count": 275,
     "metadata": {},
     "output_type": "execute_result"
    }
   ],
   "source": [
    "rf.fit(X_train, y_train)"
   ]
  },
  {
   "cell_type": "code",
   "execution_count": 276,
   "metadata": {},
   "outputs": [
    {
     "name": "stdout",
     "output_type": "stream",
     "text": [
      "[0.09698363 0.11930094 0.08080159 0.03854143 0.01714747 0.15641137\n",
      " 0.0189457  0.4439115  0.01135351 0.01660285]\n"
     ]
    }
   ],
   "source": [
    "print(rf.feature_importances_)"
   ]
  },
  {
   "cell_type": "code",
   "execution_count": 277,
   "metadata": {},
   "outputs": [],
   "source": [
    "y_pred = rf.predict(X_train)"
   ]
  },
  {
   "cell_type": "code",
   "execution_count": 278,
   "metadata": {},
   "outputs": [],
   "source": [
    "y_pred_proba = rf.predict_proba(X_train)"
   ]
  },
  {
   "cell_type": "code",
   "execution_count": 279,
   "metadata": {},
   "outputs": [
    {
     "name": "stdout",
     "output_type": "stream",
     "text": [
      "Accuracy of random forest classifier on training set: 0.88\n"
     ]
    }
   ],
   "source": [
    "print('Accuracy of random forest classifier on training set: {:.2f}'\n",
    "     .format(rf.score(X_train, y_train)))"
   ]
  },
  {
   "cell_type": "code",
   "execution_count": 280,
   "metadata": {},
   "outputs": [
    {
     "name": "stdout",
     "output_type": "stream",
     "text": [
      "[[297  10]\n",
      " [ 49 142]]\n"
     ]
    }
   ],
   "source": [
    "print(confusion_matrix(y_train, y_pred))"
   ]
  },
  {
   "cell_type": "code",
   "execution_count": 281,
   "metadata": {},
   "outputs": [
    {
     "name": "stdout",
     "output_type": "stream",
     "text": [
      "              precision    recall  f1-score   support\n",
      "\n",
      "           0       0.86      0.97      0.91       307\n",
      "           1       0.93      0.74      0.83       191\n",
      "\n",
      "    accuracy                           0.88       498\n",
      "   macro avg       0.90      0.86      0.87       498\n",
      "weighted avg       0.89      0.88      0.88       498\n",
      "\n"
     ]
    }
   ],
   "source": [
    "print(classification_report(y_train, y_pred))"
   ]
  },
  {
   "cell_type": "code",
   "execution_count": 282,
   "metadata": {},
   "outputs": [
    {
     "name": "stdout",
     "output_type": "stream",
     "text": [
      "Accuracy of random forest classifier on test set: 0.80\n"
     ]
    }
   ],
   "source": [
    "print('Accuracy of random forest classifier on test set: {:.2f}'\n",
    "     .format(rf.score(X_validate, y_validate)))"
   ]
  },
  {
   "cell_type": "code",
   "execution_count": 329,
   "metadata": {},
   "outputs": [],
   "source": [
    "from sklearn.neighbors import KNeighborsClassifier"
   ]
  },
  {
   "cell_type": "code",
   "execution_count": 368,
   "metadata": {},
   "outputs": [],
   "source": [
    "# weights = ['uniform', 'density']\n",
    "knn = KNeighborsClassifier(n_neighbors=5, weights='uniform')"
   ]
  },
  {
   "cell_type": "code",
   "execution_count": 369,
   "metadata": {},
   "outputs": [
    {
     "data": {
      "text/plain": [
       "KNeighborsClassifier()"
      ]
     },
     "execution_count": 369,
     "metadata": {},
     "output_type": "execute_result"
    }
   ],
   "source": [
    "knn.fit(X_train, y_train)"
   ]
  },
  {
   "cell_type": "code",
   "execution_count": 370,
   "metadata": {},
   "outputs": [],
   "source": [
    "y_pred = knn.predict(X_train)"
   ]
  },
  {
   "cell_type": "code",
   "execution_count": 371,
   "metadata": {},
   "outputs": [],
   "source": [
    "y_pred_proba = knn.predict_proba(X_train)"
   ]
  },
  {
   "cell_type": "code",
   "execution_count": 372,
   "metadata": {},
   "outputs": [
    {
     "name": "stdout",
     "output_type": "stream",
     "text": [
      "Accuracy of KNN classifier on training set: 0.83\n"
     ]
    }
   ],
   "source": [
    "print('Accuracy of KNN classifier on training set: {:.2f}'\n",
    "     .format(knn.score(X_train, y_train)))"
   ]
  },
  {
   "cell_type": "code",
   "execution_count": 373,
   "metadata": {},
   "outputs": [
    {
     "name": "stdout",
     "output_type": "stream",
     "text": [
      "[[2663  228]\n",
      " [ 433  613]]\n"
     ]
    }
   ],
   "source": [
    "print(confusion_matrix(y_train, y_pred))"
   ]
  },
  {
   "cell_type": "code",
   "execution_count": 374,
   "metadata": {},
   "outputs": [
    {
     "name": "stdout",
     "output_type": "stream",
     "text": [
      "Accuracy: 0.8321056642113285\n",
      "True Positive Rate: 0.8601421188630491\n",
      "False Positive Rate: 0.27110582639714625\n",
      "True Negative Rate: 0.7288941736028538\n",
      "False Negative Rate: 0.1398578811369509\n",
      "Precision: 0.9211345555171221\n",
      "Recall: 0.8601421188630491\n",
      "F1 Score: 0.8895941205946216\n",
      "Support (0): 3096\n",
      "Support (1): 841\n"
     ]
    }
   ],
   "source": [
    "TP = 2663\n",
    "TN = 613\n",
    "FP = 228\n",
    "FN = 433\n",
    "\n",
    "ALL = TP + FP + FN + TN\n",
    "\n",
    "accuracy = (TP + TN)/ALL\n",
    "print(f\"Accuracy: {accuracy}\")\n",
    "\n",
    "true_positive_rate = TP/(TP+FN)\n",
    "print(f\"True Positive Rate: {true_positive_rate}\")\n",
    "\n",
    "false_positive_rate = FP/(FP+TN)\n",
    "print(f\"False Positive Rate: {false_positive_rate}\")\n",
    "\n",
    "true_negative_rate = TN/(TN+FP)\n",
    "print(f\"True Negative Rate: {true_negative_rate}\")\n",
    "\n",
    "false_negative_rate = FN/(FN+TP)\n",
    "print(f\"False Negative Rate: {false_negative_rate}\")\n",
    "\n",
    "precision = TP/(TP+FP)\n",
    "print(f\"Precision: {precision}\")\n",
    "\n",
    "recall = TP/(TP+FN)\n",
    "print(f\"Recall: {recall}\")\n",
    "\n",
    "f1_score = 2*(precision*recall)/(precision+recall)\n",
    "print(f\"F1 Score: {f1_score}\")\n",
    "\n",
    "support_pos = TP + FN\n",
    "print(f\"Support (0): {support_pos}\")\n",
    "\n",
    "support_neg = FP + TN\n",
    "print(f\"Support (1): {support_neg}\")"
   ]
  },
  {
   "cell_type": "code",
   "execution_count": 375,
   "metadata": {},
   "outputs": [
    {
     "name": "stdout",
     "output_type": "stream",
     "text": [
      "              precision    recall  f1-score   support\n",
      "\n",
      "           0       0.86      0.92      0.89      2891\n",
      "           1       0.73      0.59      0.65      1046\n",
      "\n",
      "    accuracy                           0.83      3937\n",
      "   macro avg       0.79      0.75      0.77      3937\n",
      "weighted avg       0.83      0.83      0.83      3937\n",
      "\n"
     ]
    }
   ],
   "source": [
    "print(classification_report(y_train, y_pred))"
   ]
  },
  {
   "cell_type": "code",
   "execution_count": 376,
   "metadata": {},
   "outputs": [
    {
     "name": "stdout",
     "output_type": "stream",
     "text": [
      "Accuracy of KNN classifier on test set: 0.76\n"
     ]
    }
   ],
   "source": [
    "print('Accuracy of KNN classifier on test set: {:.2f}'\n",
    "     .format(knn.score(X_validate, y_validate)))"
   ]
  },
  {
   "cell_type": "code",
   "execution_count": 377,
   "metadata": {},
   "outputs": [
    {
     "data": {
      "image/png": "[encoded data removed]",
      "text/plain": [
       "<Figure size 432x288 with 1 Axes>"
      ]
     },
     "metadata": {
      "needs_background": "light"
     },
     "output_type": "display_data"
    }
   ],
   "source": [
    "import matplotlib.pyplot as plt\n",
    "k_range = range(1, 20)\n",
    "scores = []\n",
    "for k in k_range:\n",
    "    knn = KNeighborsClassifier(n_neighbors = k)\n",
    "    knn.fit(X_train, y_train)\n",
    "    scores.append(knn.score(X_test, y_test))\n",
    "plt.figure()\n",
    "plt.xlabel('k')\n",
    "plt.ylabel('accuracy')\n",
    "plt.scatter(k_range, scores)\n",
    "plt.xticks([0,5,10,15,20])\n",
    "plt.show()"
   ]
  }
 ],
 "metadata": {
  "interpreter": {
   "hash": "38cca0c38332a56087b24af0bc80247f4fced29cb4f7f437d91dc159adec9c4e"
  },
  "kernelspec": {
   "display_name": "Python 3.9.12 ('base')",
   "language": "python",
   "name": "python3"
  },
  "language_info": {
   "codemirror_mode": {
    "name": "ipython",
    "version": 3
   },
   "file_extension": ".py",
   "mimetype": "text/x-python",
   "name": "python",
   "nbconvert_exporter": "python",
   "pygments_lexer": "ipython3",
   "version": "3.9.12"
  },
  "orig_nbformat": 4
 },
 "nbformat": 4,
 "nbformat_minor": 2
}
